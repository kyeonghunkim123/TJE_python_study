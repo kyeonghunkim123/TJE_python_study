{
 "cells": [
  {
   "cell_type": "code",
   "execution_count": 1,
   "id": "e0cfdc98",
   "metadata": {},
   "outputs": [],
   "source": [
    "filename = './data1/kakao.txt'\n",
    "with open(filename) as f:\n",
    "    api_key = f.read()"
   ]
  },
  {
   "cell_type": "code",
   "execution_count": 2,
   "id": "d376e123",
   "metadata": {},
   "outputs": [
    {
     "data": {
      "text/plain": [
       "32"
      ]
     },
     "execution_count": 2,
     "metadata": {},
     "output_type": "execute_result"
    }
   ],
   "source": [
    "len(api_key)"
   ]
  },
  {
   "cell_type": "code",
   "execution_count": 3,
   "id": "61d2b152",
   "metadata": {},
   "outputs": [],
   "source": [
    "import requests\n",
    "from urllib.parse import quote"
   ]
  },
  {
   "cell_type": "code",
   "execution_count": 5,
   "id": "9931fcc9",
   "metadata": {},
   "outputs": [
    {
     "data": {
      "text/plain": [
       "'%EC%84%9C%EC%9A%B8%ED%8A%B9%EB%B3%84%EC%8B%9C%20%EC%A2%85%EB%A1%9C%EA%B5%AC%20%EC%A2%85%EB%A1%9C1%EA%B8%B8%2036%28%EC%88%98%EC%86%A1%EB%8F%99%29'"
      ]
     },
     "execution_count": 5,
     "metadata": {},
     "output_type": "execute_result"
    }
   ],
   "source": [
    "addr = '서울특별시 종로구 종로1길 36(수송동)'\n",
    "quote(addr)"
   ]
  },
  {
   "cell_type": "code",
   "execution_count": 12,
   "id": "98cc9a5a",
   "metadata": {
    "collapsed": true
   },
   "outputs": [
    {
     "data": {
      "text/plain": [
       "'https://dapi.kakao.com/v2/local/search/address.json?query=%EC%84%9C%EC%9A%B8%ED%8A%B9%EB%B3%84%EC%8B%9C%20%EC%A2%85%EB%A1%9C%EA%B5%AC%20%EC%A2%85%EB%A1%9C1%EA%B8%B8%2036%28%EC%88%98%EC%86%A1%EB%8F%99%29'"
      ]
     },
     "execution_count": 12,
     "metadata": {},
     "output_type": "execute_result"
    }
   ],
   "source": [
    "search_url = \"https://dapi.kakao.com/v2/local/search/address.json\"\n",
    "url = f'{search_url}?query={quote(addr)}'\n",
    "url"
   ]
  },
  {
   "cell_type": "code",
   "execution_count": 27,
   "id": "140b0fff",
   "metadata": {},
   "outputs": [],
   "source": [
    "result = requests.get(url,\n",
    "        headers={\"Authorization\": f'KakaoAK {api_key}'}).json()"
   ]
  },
  {
   "cell_type": "code",
   "execution_count": 28,
   "id": "90f2f458",
   "metadata": {},
   "outputs": [
    {
     "data": {
      "text/plain": [
       "200"
      ]
     },
     "execution_count": 28,
     "metadata": {},
     "output_type": "execute_result"
    }
   ],
   "source": [
    "# 위코드에서 json()삭제후 확인\n",
    "# result.status_code"
   ]
  },
  {
   "cell_type": "code",
   "execution_count": 29,
   "id": "a47dcb0e",
   "metadata": {},
   "outputs": [
    {
     "data": {
      "text/plain": [
       "'{\"documents\":[{\"address\":{\"address_name\":\"서울 종로구 수송동 146-12\",\"b_code\":\"1111012400\",\"h_code\":\"1111061500\",\"main_address_no\":\"146\",\"mountain_yn\":\"N\",\"region_1depth_name\":\"서울\",\"region_2depth_name\":\"종로구\",\"region_3depth_h_name\":\"종로1.2.3.4가동\",\"region_3depth_name\":\"수송동\",\"sub_address_no\":\"12\",\"x\":\"126.978988255925\",\"y\":\"37.5735051436739\"},\"address_name\":\"서울 종로구 종로1길 36\",\"address_type\":\"ROAD_ADDR\",\"road_address\":{\"address_name\":\"서울 종로구 종로1길 36\",\"building_name\":\"종로구청\",\"main_building_no\":\"36\",\"region_1depth_name\":\"서울\",\"region_2depth_name\":\"종로구\",\"region_3depth_name\":\"수송동\",\"road_name\":\"종로1길\",\"sub_building_no\":\"\",\"underground_yn\":\"N\",\"x\":\"126.978988255925\",\"y\":\"37.5735051436739\",\"zone_no\":\"03152\"},\"x\":\"126.978988255925\",\"y\":\"37.5735051436739\"}],\"meta\":{\"is_end\":true,\"pageable_count\":1,\"total_count\":1}}'"
      ]
     },
     "execution_count": 29,
     "metadata": {},
     "output_type": "execute_result"
    }
   ],
   "source": [
    "# json()으로 받지 않은경우 : result.text\n",
    "result.text"
   ]
  },
  {
   "cell_type": "code",
   "execution_count": 34,
   "id": "6411a36b",
   "metadata": {
    "collapsed": true
   },
   "outputs": [
    {
     "data": {
      "text/plain": [
       "{'documents': [{'address': {'address_name': '서울 종로구 수송동 146-12',\n",
       "    'b_code': '1111012400',\n",
       "    'h_code': '1111061500',\n",
       "    'main_address_no': '146',\n",
       "    'mountain_yn': 'N',\n",
       "    'region_1depth_name': '서울',\n",
       "    'region_2depth_name': '종로구',\n",
       "    'region_3depth_h_name': '종로1.2.3.4가동',\n",
       "    'region_3depth_name': '수송동',\n",
       "    'sub_address_no': '12',\n",
       "    'x': '126.978988255925',\n",
       "    'y': '37.5735051436739'},\n",
       "   'address_name': '서울 종로구 종로1길 36',\n",
       "   'address_type': 'ROAD_ADDR',\n",
       "   'road_address': {'address_name': '서울 종로구 종로1길 36',\n",
       "    'building_name': '종로구청',\n",
       "    'main_building_no': '36',\n",
       "    'region_1depth_name': '서울',\n",
       "    'region_2depth_name': '종로구',\n",
       "    'region_3depth_name': '수송동',\n",
       "    'road_name': '종로1길',\n",
       "    'sub_building_no': '',\n",
       "    'underground_yn': 'N',\n",
       "    'x': '126.978988255925',\n",
       "    'y': '37.5735051436739',\n",
       "    'zone_no': '03152'},\n",
       "   'x': '126.978988255925',\n",
       "   'y': '37.5735051436739'}],\n",
       " 'meta': {'is_end': True, 'pageable_count': 1, 'total_count': 1}}"
      ]
     },
     "execution_count": 34,
     "metadata": {},
     "output_type": "execute_result"
    }
   ],
   "source": [
    "import json\n",
    "res = json.loads(result.text)\n",
    "res"
   ]
  },
  {
   "cell_type": "code",
   "execution_count": 32,
   "id": "e051be0d",
   "metadata": {},
   "outputs": [
    {
     "data": {
      "text/plain": [
       "dict_keys(['documents', 'meta'])"
      ]
     },
     "execution_count": 32,
     "metadata": {},
     "output_type": "execute_result"
    }
   ],
   "source": [
    "res.keys()"
   ]
  },
  {
   "cell_type": "code",
   "execution_count": 39,
   "id": "7d121219",
   "metadata": {},
   "outputs": [
    {
     "name": "stdout",
     "output_type": "stream",
     "text": [
      "126.978988255925\n",
      "37.5735051436739\n"
     ]
    }
   ],
   "source": [
    "print(res['documents'][0]['x'])\n",
    "print(res['documents'][0]['y'])"
   ]
  },
  {
   "cell_type": "code",
   "execution_count": 40,
   "id": "a16288fe",
   "metadata": {},
   "outputs": [],
   "source": [
    "lng = float(res['documents'][0]['x'])\n",
    "lat = float(res['documents'][0]['y'])"
   ]
  },
  {
   "cell_type": "code",
   "execution_count": 43,
   "id": "0ac20640",
   "metadata": {},
   "outputs": [
    {
     "data": {
      "text/html": [
       "<div>\n",
       "<style scoped>\n",
       "    .dataframe tbody tr th:only-of-type {\n",
       "        vertical-align: middle;\n",
       "    }\n",
       "\n",
       "    .dataframe tbody tr th {\n",
       "        vertical-align: top;\n",
       "    }\n",
       "\n",
       "    .dataframe thead th {\n",
       "        text-align: right;\n",
       "    }\n",
       "</style>\n",
       "<table border=\"1\" class=\"dataframe\">\n",
       "  <thead>\n",
       "    <tr style=\"text-align: right;\">\n",
       "      <th></th>\n",
       "      <th>공공기관</th>\n",
       "      <th>도로명주소</th>\n",
       "    </tr>\n",
       "  </thead>\n",
       "  <tbody>\n",
       "    <tr>\n",
       "      <th>0</th>\n",
       "      <td>종로구청</td>\n",
       "      <td>서울특별시 종로구 종로1길 36(수송동)</td>\n",
       "    </tr>\n",
       "    <tr>\n",
       "      <th>1</th>\n",
       "      <td>노원구청</td>\n",
       "      <td>서울특별시 노원구 노해로 437(상계동)</td>\n",
       "    </tr>\n",
       "    <tr>\n",
       "      <th>2</th>\n",
       "      <td>송파구청</td>\n",
       "      <td>서울특별시 송파구 올림픽로 326(신천동)</td>\n",
       "    </tr>\n",
       "    <tr>\n",
       "      <th>3</th>\n",
       "      <td>마포구청</td>\n",
       "      <td>서울특별시 마포구 월드컵로 지하190(성산동)</td>\n",
       "    </tr>\n",
       "    <tr>\n",
       "      <th>4</th>\n",
       "      <td>양천구청</td>\n",
       "      <td>서울특별시 양천구 목동동로 105(신정동)</td>\n",
       "    </tr>\n",
       "  </tbody>\n",
       "</table>\n",
       "</div>"
      ],
      "text/plain": [
       "   공공기관                      도로명주소\n",
       "0  종로구청     서울특별시 종로구 종로1길 36(수송동)\n",
       "1  노원구청     서울특별시 노원구 노해로 437(상계동)\n",
       "2  송파구청    서울특별시 송파구 올림픽로 326(신천동)\n",
       "3  마포구청  서울특별시 마포구 월드컵로 지하190(성산동)\n",
       "4  양천구청    서울특별시 양천구 목동동로 105(신정동)"
      ]
     },
     "execution_count": 43,
     "metadata": {},
     "output_type": "execute_result"
    }
   ],
   "source": [
    "import pandas as pd\n",
    "df = pd.read_csv('./data1/공공기관.csv')\n",
    "df"
   ]
  },
  {
   "cell_type": "code",
   "execution_count": 55,
   "id": "48569921",
   "metadata": {},
   "outputs": [],
   "source": [
    "lat_list = []\n",
    "lng_list = []\n",
    "for i in df.index:\n",
    "    search_url = \"https://dapi.kakao.com/v2/local/search/address.json\"\n",
    "    url = f'{search_url}?query={quote(df.도로명주소[i])}'\n",
    "    result = requests.get(url,\n",
    "        headers={\"Authorization\": f'KakaoAK {api_key}'}).json()\n",
    "    lng = float(result['documents'][0]['x'])\n",
    "    lat = float(result['documents'][0]['y'])\n",
    "    lat_list.append(lat)\n",
    "    lng_list.append(lng)"
   ]
  },
  {
   "cell_type": "code",
   "execution_count": 56,
   "id": "2adb481d",
   "metadata": {},
   "outputs": [],
   "source": [
    "df['위도'] = lat_list\n",
    "df['경도'] = lng_list\n",
    "df.to_csv('공공기관2.csv', index=False)"
   ]
  },
  {
   "cell_type": "code",
   "execution_count": 57,
   "id": "6daf9a13",
   "metadata": {},
   "outputs": [
    {
     "data": {
      "text/html": [
       "<div>\n",
       "<style scoped>\n",
       "    .dataframe tbody tr th:only-of-type {\n",
       "        vertical-align: middle;\n",
       "    }\n",
       "\n",
       "    .dataframe tbody tr th {\n",
       "        vertical-align: top;\n",
       "    }\n",
       "\n",
       "    .dataframe thead th {\n",
       "        text-align: right;\n",
       "    }\n",
       "</style>\n",
       "<table border=\"1\" class=\"dataframe\">\n",
       "  <thead>\n",
       "    <tr style=\"text-align: right;\">\n",
       "      <th></th>\n",
       "      <th>공공기관</th>\n",
       "      <th>도로명주소</th>\n",
       "      <th>위도</th>\n",
       "      <th>경도</th>\n",
       "    </tr>\n",
       "  </thead>\n",
       "  <tbody>\n",
       "    <tr>\n",
       "      <th>0</th>\n",
       "      <td>종로구청</td>\n",
       "      <td>서울특별시 종로구 종로1길 36(수송동)</td>\n",
       "      <td>37.573505</td>\n",
       "      <td>126.978988</td>\n",
       "    </tr>\n",
       "    <tr>\n",
       "      <th>1</th>\n",
       "      <td>노원구청</td>\n",
       "      <td>서울특별시 노원구 노해로 437(상계동)</td>\n",
       "      <td>37.654523</td>\n",
       "      <td>127.056268</td>\n",
       "    </tr>\n",
       "    <tr>\n",
       "      <th>2</th>\n",
       "      <td>송파구청</td>\n",
       "      <td>서울특별시 송파구 올림픽로 326(신천동)</td>\n",
       "      <td>37.514477</td>\n",
       "      <td>127.105860</td>\n",
       "    </tr>\n",
       "    <tr>\n",
       "      <th>3</th>\n",
       "      <td>마포구청</td>\n",
       "      <td>서울특별시 마포구 월드컵로 지하190(성산동)</td>\n",
       "      <td>37.563426</td>\n",
       "      <td>126.903357</td>\n",
       "    </tr>\n",
       "    <tr>\n",
       "      <th>4</th>\n",
       "      <td>양천구청</td>\n",
       "      <td>서울특별시 양천구 목동동로 105(신정동)</td>\n",
       "      <td>37.517075</td>\n",
       "      <td>126.866543</td>\n",
       "    </tr>\n",
       "  </tbody>\n",
       "</table>\n",
       "</div>"
      ],
      "text/plain": [
       "   공공기관                      도로명주소         위도          경도\n",
       "0  종로구청     서울특별시 종로구 종로1길 36(수송동)  37.573505  126.978988\n",
       "1  노원구청     서울특별시 노원구 노해로 437(상계동)  37.654523  127.056268\n",
       "2  송파구청    서울특별시 송파구 올림픽로 326(신천동)  37.514477  127.105860\n",
       "3  마포구청  서울특별시 마포구 월드컵로 지하190(성산동)  37.563426  126.903357\n",
       "4  양천구청    서울특별시 양천구 목동동로 105(신정동)  37.517075  126.866543"
      ]
     },
     "execution_count": 57,
     "metadata": {},
     "output_type": "execute_result"
    }
   ],
   "source": [
    "df"
   ]
  },
  {
   "cell_type": "code",
   "execution_count": 58,
   "id": "e7718379",
   "metadata": {},
   "outputs": [],
   "source": [
    "import folium"
   ]
  },
  {
   "cell_type": "code",
   "execution_count": 59,
   "id": "7e210d9f",
   "metadata": {},
   "outputs": [
    {
     "data": {
      "text/html": [
       "<div style=\"width:100%;\"><div style=\"position:relative;width:100%;height:0;padding-bottom:60%;\"><span style=\"color:#565656\">Make this Notebook Trusted to load map: File -> Trust Notebook</span><iframe srcdoc=\"&lt;!DOCTYPE html&gt;\n",
       "&lt;html&gt;\n",
       "&lt;head&gt;\n",
       "    \n",
       "    &lt;meta http-equiv=&quot;content-type&quot; content=&quot;text/html; charset=UTF-8&quot; /&gt;\n",
       "    \n",
       "        &lt;script&gt;\n",
       "            L_NO_TOUCH = false;\n",
       "            L_DISABLE_3D = false;\n",
       "        &lt;/script&gt;\n",
       "    \n",
       "    &lt;style&gt;html, body {width: 100%;height: 100%;margin: 0;padding: 0;}&lt;/style&gt;\n",
       "    &lt;style&gt;#map {position:absolute;top:0;bottom:0;right:0;left:0;}&lt;/style&gt;\n",
       "    &lt;script src=&quot;https://cdn.jsdelivr.net/npm/leaflet@1.9.3/dist/leaflet.js&quot;&gt;&lt;/script&gt;\n",
       "    &lt;script src=&quot;https://code.jquery.com/jquery-1.12.4.min.js&quot;&gt;&lt;/script&gt;\n",
       "    &lt;script src=&quot;https://cdn.jsdelivr.net/npm/bootstrap@5.2.2/dist/js/bootstrap.bundle.min.js&quot;&gt;&lt;/script&gt;\n",
       "    &lt;script src=&quot;https://cdnjs.cloudflare.com/ajax/libs/Leaflet.awesome-markers/2.0.2/leaflet.awesome-markers.js&quot;&gt;&lt;/script&gt;\n",
       "    &lt;link rel=&quot;stylesheet&quot; href=&quot;https://cdn.jsdelivr.net/npm/leaflet@1.9.3/dist/leaflet.css&quot;/&gt;\n",
       "    &lt;link rel=&quot;stylesheet&quot; href=&quot;https://cdn.jsdelivr.net/npm/bootstrap@5.2.2/dist/css/bootstrap.min.css&quot;/&gt;\n",
       "    &lt;link rel=&quot;stylesheet&quot; href=&quot;https://netdna.bootstrapcdn.com/bootstrap/3.0.0/css/bootstrap.min.css&quot;/&gt;\n",
       "    &lt;link rel=&quot;stylesheet&quot; href=&quot;https://cdn.jsdelivr.net/npm/@fortawesome/fontawesome-free@6.2.0/css/all.min.css&quot;/&gt;\n",
       "    &lt;link rel=&quot;stylesheet&quot; href=&quot;https://cdnjs.cloudflare.com/ajax/libs/Leaflet.awesome-markers/2.0.2/leaflet.awesome-markers.css&quot;/&gt;\n",
       "    &lt;link rel=&quot;stylesheet&quot; href=&quot;https://cdn.jsdelivr.net/gh/python-visualization/folium/folium/templates/leaflet.awesome.rotate.min.css&quot;/&gt;\n",
       "    \n",
       "            &lt;meta name=&quot;viewport&quot; content=&quot;width=device-width,\n",
       "                initial-scale=1.0, maximum-scale=1.0, user-scalable=no&quot; /&gt;\n",
       "            &lt;style&gt;\n",
       "                #map_fcd9825799833c2c734a48d9108a8c1e {\n",
       "                    position: relative;\n",
       "                    width: 100.0%;\n",
       "                    height: 100.0%;\n",
       "                    left: 0.0%;\n",
       "                    top: 0.0%;\n",
       "                }\n",
       "                .leaflet-container { font-size: 1rem; }\n",
       "            &lt;/style&gt;\n",
       "        \n",
       "&lt;/head&gt;\n",
       "&lt;body&gt;\n",
       "    \n",
       "    &lt;h3 align=&quot;center&quot; style=&quot;font-size:20&quot;&gt; 서울시 구청&lt;/h3&gt;\n",
       "    \n",
       "            &lt;div class=&quot;folium-map&quot; id=&quot;map_fcd9825799833c2c734a48d9108a8c1e&quot; &gt;&lt;/div&gt;\n",
       "        \n",
       "&lt;/body&gt;\n",
       "&lt;script&gt;\n",
       "    \n",
       "    \n",
       "            var map_fcd9825799833c2c734a48d9108a8c1e = L.map(\n",
       "                &quot;map_fcd9825799833c2c734a48d9108a8c1e&quot;,\n",
       "                {\n",
       "                    center: [37.56460137149641, 126.98220321478],\n",
       "                    crs: L.CRS.EPSG3857,\n",
       "                    zoom: 12,\n",
       "                    zoomControl: true,\n",
       "                    preferCanvas: false,\n",
       "                }\n",
       "            );\n",
       "\n",
       "            \n",
       "\n",
       "        \n",
       "    \n",
       "            var tile_layer_22c32c0006ed1ab7bbf713afae178830 = L.tileLayer(\n",
       "                &quot;https://{s}.tile.openstreetmap.org/{z}/{x}/{y}.png&quot;,\n",
       "                {&quot;attribution&quot;: &quot;Data by \\u0026copy; \\u003ca target=\\&quot;_blank\\&quot; href=\\&quot;http://openstreetmap.org\\&quot;\\u003eOpenStreetMap\\u003c/a\\u003e, under \\u003ca target=\\&quot;_blank\\&quot; href=\\&quot;http://www.openstreetmap.org/copyright\\&quot;\\u003eODbL\\u003c/a\\u003e.&quot;, &quot;detectRetina&quot;: false, &quot;maxNativeZoom&quot;: 18, &quot;maxZoom&quot;: 18, &quot;minZoom&quot;: 0, &quot;noWrap&quot;: false, &quot;opacity&quot;: 1, &quot;subdomains&quot;: &quot;abc&quot;, &quot;tms&quot;: false}\n",
       "            ).addTo(map_fcd9825799833c2c734a48d9108a8c1e);\n",
       "        \n",
       "    \n",
       "            var circle_9b1734aed0f5939d692f163f8c2a6fd5 = L.circle(\n",
       "                [37.5735051436739, 126.978988255925],\n",
       "                {&quot;bubblingMouseEvents&quot;: true, &quot;color&quot;: &quot;red&quot;, &quot;dashArray&quot;: null, &quot;dashOffset&quot;: null, &quot;fill&quot;: true, &quot;fillColor&quot;: &quot;#3186cc&quot;, &quot;fillOpacity&quot;: 0.2, &quot;fillRule&quot;: &quot;evenodd&quot;, &quot;lineCap&quot;: &quot;round&quot;, &quot;lineJoin&quot;: &quot;round&quot;, &quot;opacity&quot;: 1.0, &quot;radius&quot;: 300, &quot;stroke&quot;: true, &quot;weight&quot;: 3}\n",
       "            ).addTo(map_fcd9825799833c2c734a48d9108a8c1e);\n",
       "        \n",
       "    \n",
       "        var popup_dda44162f788bb3929f3d4422a9ec946 = L.popup({&quot;maxWidth&quot;: 200});\n",
       "\n",
       "        \n",
       "            \n",
       "                var html_b8740c5a2848795a2107fb6974907318 = $(`&lt;div id=&quot;html_b8740c5a2848795a2107fb6974907318&quot; style=&quot;width: 100.0%; height: 100.0%;&quot;&gt;서울특별시 종로구 종로1길 36(수송동)&lt;/div&gt;`)[0];\n",
       "                popup_dda44162f788bb3929f3d4422a9ec946.setContent(html_b8740c5a2848795a2107fb6974907318);\n",
       "            \n",
       "        \n",
       "\n",
       "        circle_9b1734aed0f5939d692f163f8c2a6fd5.bindPopup(popup_dda44162f788bb3929f3d4422a9ec946)\n",
       "        ;\n",
       "\n",
       "        \n",
       "    \n",
       "    \n",
       "            circle_9b1734aed0f5939d692f163f8c2a6fd5.bindTooltip(\n",
       "                `&lt;div&gt;\n",
       "                     종로구청\n",
       "                 &lt;/div&gt;`,\n",
       "                {&quot;sticky&quot;: true}\n",
       "            );\n",
       "        \n",
       "    \n",
       "            var circle_805acd833b51ec536fa4d8bc8def6a8a = L.circle(\n",
       "                [37.6545228397157, 127.056268317802],\n",
       "                {&quot;bubblingMouseEvents&quot;: true, &quot;color&quot;: &quot;red&quot;, &quot;dashArray&quot;: null, &quot;dashOffset&quot;: null, &quot;fill&quot;: true, &quot;fillColor&quot;: &quot;#3186cc&quot;, &quot;fillOpacity&quot;: 0.2, &quot;fillRule&quot;: &quot;evenodd&quot;, &quot;lineCap&quot;: &quot;round&quot;, &quot;lineJoin&quot;: &quot;round&quot;, &quot;opacity&quot;: 1.0, &quot;radius&quot;: 300, &quot;stroke&quot;: true, &quot;weight&quot;: 3}\n",
       "            ).addTo(map_fcd9825799833c2c734a48d9108a8c1e);\n",
       "        \n",
       "    \n",
       "        var popup_b92ac4a5c18fd7613e595fa12fee24f1 = L.popup({&quot;maxWidth&quot;: 200});\n",
       "\n",
       "        \n",
       "            \n",
       "                var html_74f50ef8b7193dfc51b943c3b9d2a4cc = $(`&lt;div id=&quot;html_74f50ef8b7193dfc51b943c3b9d2a4cc&quot; style=&quot;width: 100.0%; height: 100.0%;&quot;&gt;서울특별시 노원구 노해로 437(상계동)&lt;/div&gt;`)[0];\n",
       "                popup_b92ac4a5c18fd7613e595fa12fee24f1.setContent(html_74f50ef8b7193dfc51b943c3b9d2a4cc);\n",
       "            \n",
       "        \n",
       "\n",
       "        circle_805acd833b51ec536fa4d8bc8def6a8a.bindPopup(popup_b92ac4a5c18fd7613e595fa12fee24f1)\n",
       "        ;\n",
       "\n",
       "        \n",
       "    \n",
       "    \n",
       "            circle_805acd833b51ec536fa4d8bc8def6a8a.bindTooltip(\n",
       "                `&lt;div&gt;\n",
       "                     노원구청\n",
       "                 &lt;/div&gt;`,\n",
       "                {&quot;sticky&quot;: true}\n",
       "            );\n",
       "        \n",
       "    \n",
       "            var circle_c18b187fb442bc3420e7a7d09a12bc6b = L.circle(\n",
       "                [37.514477182474, 127.105859984389],\n",
       "                {&quot;bubblingMouseEvents&quot;: true, &quot;color&quot;: &quot;red&quot;, &quot;dashArray&quot;: null, &quot;dashOffset&quot;: null, &quot;fill&quot;: true, &quot;fillColor&quot;: &quot;#3186cc&quot;, &quot;fillOpacity&quot;: 0.2, &quot;fillRule&quot;: &quot;evenodd&quot;, &quot;lineCap&quot;: &quot;round&quot;, &quot;lineJoin&quot;: &quot;round&quot;, &quot;opacity&quot;: 1.0, &quot;radius&quot;: 300, &quot;stroke&quot;: true, &quot;weight&quot;: 3}\n",
       "            ).addTo(map_fcd9825799833c2c734a48d9108a8c1e);\n",
       "        \n",
       "    \n",
       "        var popup_ea238a6f5b5e8cd7c74aa0121d4a57d3 = L.popup({&quot;maxWidth&quot;: 200});\n",
       "\n",
       "        \n",
       "            \n",
       "                var html_c5bb8e274973990e98bf6708ae36d4cc = $(`&lt;div id=&quot;html_c5bb8e274973990e98bf6708ae36d4cc&quot; style=&quot;width: 100.0%; height: 100.0%;&quot;&gt;서울특별시 송파구 올림픽로 326(신천동)&lt;/div&gt;`)[0];\n",
       "                popup_ea238a6f5b5e8cd7c74aa0121d4a57d3.setContent(html_c5bb8e274973990e98bf6708ae36d4cc);\n",
       "            \n",
       "        \n",
       "\n",
       "        circle_c18b187fb442bc3420e7a7d09a12bc6b.bindPopup(popup_ea238a6f5b5e8cd7c74aa0121d4a57d3)\n",
       "        ;\n",
       "\n",
       "        \n",
       "    \n",
       "    \n",
       "            circle_c18b187fb442bc3420e7a7d09a12bc6b.bindTooltip(\n",
       "                `&lt;div&gt;\n",
       "                     송파구청\n",
       "                 &lt;/div&gt;`,\n",
       "                {&quot;sticky&quot;: true}\n",
       "            );\n",
       "        \n",
       "    \n",
       "            var circle_100c2e21b51f9b75942dca600529f639 = L.circle(\n",
       "                [37.5634263131969, 126.903356973848],\n",
       "                {&quot;bubblingMouseEvents&quot;: true, &quot;color&quot;: &quot;red&quot;, &quot;dashArray&quot;: null, &quot;dashOffset&quot;: null, &quot;fill&quot;: true, &quot;fillColor&quot;: &quot;#3186cc&quot;, &quot;fillOpacity&quot;: 0.2, &quot;fillRule&quot;: &quot;evenodd&quot;, &quot;lineCap&quot;: &quot;round&quot;, &quot;lineJoin&quot;: &quot;round&quot;, &quot;opacity&quot;: 1.0, &quot;radius&quot;: 300, &quot;stroke&quot;: true, &quot;weight&quot;: 3}\n",
       "            ).addTo(map_fcd9825799833c2c734a48d9108a8c1e);\n",
       "        \n",
       "    \n",
       "        var popup_c90f948763de5dc7bcb1659d64b6e7f0 = L.popup({&quot;maxWidth&quot;: 200});\n",
       "\n",
       "        \n",
       "            \n",
       "                var html_1a5c36d1f7ec996b24dc7f356e32a6f1 = $(`&lt;div id=&quot;html_1a5c36d1f7ec996b24dc7f356e32a6f1&quot; style=&quot;width: 100.0%; height: 100.0%;&quot;&gt;서울특별시 마포구 월드컵로 지하190(성산동)&lt;/div&gt;`)[0];\n",
       "                popup_c90f948763de5dc7bcb1659d64b6e7f0.setContent(html_1a5c36d1f7ec996b24dc7f356e32a6f1);\n",
       "            \n",
       "        \n",
       "\n",
       "        circle_100c2e21b51f9b75942dca600529f639.bindPopup(popup_c90f948763de5dc7bcb1659d64b6e7f0)\n",
       "        ;\n",
       "\n",
       "        \n",
       "    \n",
       "    \n",
       "            circle_100c2e21b51f9b75942dca600529f639.bindTooltip(\n",
       "                `&lt;div&gt;\n",
       "                     마포구청\n",
       "                 &lt;/div&gt;`,\n",
       "                {&quot;sticky&quot;: true}\n",
       "            );\n",
       "        \n",
       "    \n",
       "            var circle_4f37428542254cced8b05f7310073bc0 = L.circle(\n",
       "                [37.5170753784215, 126.866542541936],\n",
       "                {&quot;bubblingMouseEvents&quot;: true, &quot;color&quot;: &quot;red&quot;, &quot;dashArray&quot;: null, &quot;dashOffset&quot;: null, &quot;fill&quot;: true, &quot;fillColor&quot;: &quot;#3186cc&quot;, &quot;fillOpacity&quot;: 0.2, &quot;fillRule&quot;: &quot;evenodd&quot;, &quot;lineCap&quot;: &quot;round&quot;, &quot;lineJoin&quot;: &quot;round&quot;, &quot;opacity&quot;: 1.0, &quot;radius&quot;: 300, &quot;stroke&quot;: true, &quot;weight&quot;: 3}\n",
       "            ).addTo(map_fcd9825799833c2c734a48d9108a8c1e);\n",
       "        \n",
       "    \n",
       "        var popup_e58960a6d97d4cf1acfb3e9c76fe70f5 = L.popup({&quot;maxWidth&quot;: 200});\n",
       "\n",
       "        \n",
       "            \n",
       "                var html_8d9725edfb981b18145866409e67b423 = $(`&lt;div id=&quot;html_8d9725edfb981b18145866409e67b423&quot; style=&quot;width: 100.0%; height: 100.0%;&quot;&gt;서울특별시 양천구 목동동로 105(신정동)&lt;/div&gt;`)[0];\n",
       "                popup_e58960a6d97d4cf1acfb3e9c76fe70f5.setContent(html_8d9725edfb981b18145866409e67b423);\n",
       "            \n",
       "        \n",
       "\n",
       "        circle_4f37428542254cced8b05f7310073bc0.bindPopup(popup_e58960a6d97d4cf1acfb3e9c76fe70f5)\n",
       "        ;\n",
       "\n",
       "        \n",
       "    \n",
       "    \n",
       "            circle_4f37428542254cced8b05f7310073bc0.bindTooltip(\n",
       "                `&lt;div&gt;\n",
       "                     양천구청\n",
       "                 &lt;/div&gt;`,\n",
       "                {&quot;sticky&quot;: true}\n",
       "            );\n",
       "        \n",
       "&lt;/script&gt;\n",
       "&lt;/html&gt;\" style=\"position:absolute;width:100%;height:100%;left:0;top:0;border:none !important;\" allowfullscreen webkitallowfullscreen mozallowfullscreen></iframe></div></div>"
      ],
      "text/plain": [
       "<folium.folium.Map at 0x1d176bce580>"
      ]
     },
     "execution_count": 59,
     "metadata": {},
     "output_type": "execute_result"
    }
   ],
   "source": [
    "map = folium.Map(location=[df.위도.mean(), df.경도.mean()], \n",
    "                 zoom_start=12)\n",
    "for i in df.index:\n",
    "    folium.Circle(radius=300,\n",
    "                  location=[df.위도[i], df.경도[i]],\n",
    "                  popup=folium.Popup(df.도로명주소[i], max_width=200),\n",
    "                  tooltip=df.공공기관[i],\n",
    "                  color = 'red',\n",
    "                  fill= True,\n",
    "                  fill_color = '#3186cc').add_to(map)\n",
    "title = '<h3 align=\"center\" style=\"font-size:20\"> 서울시 구청</h3>'\n",
    "map.get_root().html.add_child(folium.Element(title))\n",
    "map"
   ]
  },
  {
   "cell_type": "code",
   "execution_count": null,
   "id": "b89f9e57",
   "metadata": {},
   "outputs": [],
   "source": []
  }
 ],
 "metadata": {
  "kernelspec": {
   "display_name": "Python 3 (ipykernel)",
   "language": "python",
   "name": "python3"
  },
  "language_info": {
   "codemirror_mode": {
    "name": "ipython",
    "version": 3
   },
   "file_extension": ".py",
   "mimetype": "text/x-python",
   "name": "python",
   "nbconvert_exporter": "python",
   "pygments_lexer": "ipython3",
   "version": "3.8.7"
  }
 },
 "nbformat": 4,
 "nbformat_minor": 5
}
