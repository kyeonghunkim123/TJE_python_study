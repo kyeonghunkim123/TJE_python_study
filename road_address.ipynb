{
 "cells": [
  {
   "cell_type": "code",
   "execution_count": 16,
   "id": "1dc8644f",
   "metadata": {},
   "outputs": [],
   "source": [
    "filename = './data1/행안부API.txt'\n",
    "with open(filename) as f:\n",
    "    api_key = f.read()"
   ]
  },
  {
   "cell_type": "code",
   "execution_count": 17,
   "id": "f29a644a",
   "metadata": {},
   "outputs": [
    {
     "data": {
      "text/plain": [
       "43"
      ]
     },
     "execution_count": 17,
     "metadata": {},
     "output_type": "execute_result"
    }
   ],
   "source": [
    "len(api_key)"
   ]
  },
  {
   "cell_type": "code",
   "execution_count": 18,
   "id": "46442565",
   "metadata": {},
   "outputs": [],
   "source": [
    "import requests\n",
    "from urllib.parse import quote"
   ]
  },
  {
   "cell_type": "code",
   "execution_count": 19,
   "id": "436872ef",
   "metadata": {
    "scrolled": true
   },
   "outputs": [
    {
     "data": {
      "text/plain": [
       "'%EC%84%9C%EC%9A%B8%ED%8A%B9%EB%B3%84%EC%8B%9C%EC%B2%AD'"
      ]
     },
     "execution_count": 19,
     "metadata": {},
     "output_type": "execute_result"
    }
   ],
   "source": [
    "bldg = '서울특별시청'\n",
    "quote(bldg)"
   ]
  },
  {
   "cell_type": "code",
   "execution_count": 20,
   "id": "d5208cf7",
   "metadata": {},
   "outputs": [],
   "source": [
    "base_url = 'https://business.juso.go.kr/addrlink/addrLinkApi.do'\n",
    "params1 = f'currentPage=1&countPerPage=10&keyword={quote(\"서울특별시청\")}'\n",
    "params2 = f'&confmKey={api_key}&resultType=json'\n",
    "url = f'{base_url}?{params1}?{params2}'"
   ]
  },
  {
   "cell_type": "code",
   "execution_count": 23,
   "id": "6213e6d7",
   "metadata": {},
   "outputs": [],
   "source": [
    "base_url = 'https://business.juso.go.kr/addrlink/addrLinkApi.do'\n",
    "params1 = f'currentPage=1&countPerPage=10&confmKey={api_key}'\n",
    "params2 = f'keyword={quote(\"서울특별시청\")}&resultType=json'\n",
    "url = f'{base_url}?{params1}&{params2}'"
   ]
  },
  {
   "cell_type": "code",
   "execution_count": 27,
   "id": "2bc532d9",
   "metadata": {},
   "outputs": [
    {
     "data": {
      "text/plain": [
       "200"
      ]
     },
     "execution_count": 27,
     "metadata": {},
     "output_type": "execute_result"
    }
   ],
   "source": [
    "result = requests.get(url)\n",
    "result.status_code"
   ]
  },
  {
   "cell_type": "code",
   "execution_count": 25,
   "id": "7ccdff2c",
   "metadata": {},
   "outputs": [
    {
     "name": "stdout",
     "output_type": "stream",
     "text": [
      "https://business.juso.go.kr/addrlink/addrLinkApi.do?currentPage=1&countPerPage=10&confmKey=devU01TX0FVVEgyMDIzMDMyMjA5MzkxMzExMzYxMTQ=&keyword=%EC%84%9C%EC%9A%B8%ED%8A%B9%EB%B3%84%EC%8B%9C%EC%B2%AD&resultType=json\n"
     ]
    }
   ],
   "source": [
    "print(url)"
   ]
  },
  {
   "cell_type": "code",
   "execution_count": 26,
   "id": "bd5affa0",
   "metadata": {},
   "outputs": [
    {
     "data": {
      "text/plain": [
       "'{\"results\":{\"common\":{\"errorMessage\":\"정상\",\"countPerPage\":\"10\",\"totalCount\":\"1\",\"errorCode\":\"0\",\"currentPage\":\"1\"},\"juso\":[{\"detBdNmList\":\"본관동,신관\",\"engAddr\":\"110 Sejong-daero, Jung-gu, Seoul\",\"rn\":\"세종대로\",\"emdNm\":\"태평로1가\",\"zipNo\":\"04524\",\"roadAddrPart2\":\"(태평로1가)\",\"emdNo\":\"02\",\"sggNm\":\"중구\",\"jibunAddr\":\"서울특별시 중구 태평로1가 31 서울특별시청\",\"siNm\":\"서울특별시\",\"roadAddrPart1\":\"서울특별시 중구 세종대로 110\",\"bdNm\":\"서울특별시청\",\"admCd\":\"1114010300\",\"udrtYn\":\"0\",\"lnbrMnnm\":\"31\",\"roadAddr\":\"서울특별시 중구 세종대로 110(태평로1가)\",\"lnbrSlno\":\"0\",\"buldMnnm\":\"110\",\"bdKdcd\":\"0\",\"liNm\":\"\",\"rnMgtSn\":\"111402005001\",\"mtYn\":\"0\",\"bdMgtSn\":\"1114010300100310000019224\",\"buldSlno\":\"0\"}]}}'"
      ]
     },
     "execution_count": 26,
     "metadata": {},
     "output_type": "execute_result"
    }
   ],
   "source": [
    "result.text"
   ]
  },
  {
   "cell_type": "code",
   "execution_count": 28,
   "id": "5b4e5f58",
   "metadata": {
    "collapsed": true
   },
   "outputs": [
    {
     "data": {
      "text/plain": [
       "{'results': {'common': {'errorMessage': '정상',\n",
       "   'countPerPage': '10',\n",
       "   'totalCount': '1',\n",
       "   'errorCode': '0',\n",
       "   'currentPage': '1'},\n",
       "  'juso': [{'detBdNmList': '본관동,신관',\n",
       "    'engAddr': '110 Sejong-daero, Jung-gu, Seoul',\n",
       "    'rn': '세종대로',\n",
       "    'emdNm': '태평로1가',\n",
       "    'zipNo': '04524',\n",
       "    'roadAddrPart2': '(태평로1가)',\n",
       "    'emdNo': '02',\n",
       "    'sggNm': '중구',\n",
       "    'jibunAddr': '서울특별시 중구 태평로1가 31 서울특별시청',\n",
       "    'siNm': '서울특별시',\n",
       "    'roadAddrPart1': '서울특별시 중구 세종대로 110',\n",
       "    'bdNm': '서울특별시청',\n",
       "    'admCd': '1114010300',\n",
       "    'udrtYn': '0',\n",
       "    'lnbrMnnm': '31',\n",
       "    'roadAddr': '서울특별시 중구 세종대로 110(태평로1가)',\n",
       "    'lnbrSlno': '0',\n",
       "    'buldMnnm': '110',\n",
       "    'bdKdcd': '0',\n",
       "    'liNm': '',\n",
       "    'rnMgtSn': '111402005001',\n",
       "    'mtYn': '0',\n",
       "    'bdMgtSn': '1114010300100310000019224',\n",
       "    'buldSlno': '0'}]}}"
      ]
     },
     "execution_count": 28,
     "metadata": {},
     "output_type": "execute_result"
    }
   ],
   "source": [
    "import json\n",
    "res = json.loads(result.text)\n",
    "res"
   ]
  },
  {
   "cell_type": "code",
   "execution_count": 29,
   "id": "6d8c8254",
   "metadata": {},
   "outputs": [
    {
     "data": {
      "text/plain": [
       "dict_keys(['detBdNmList', 'engAddr', 'rn', 'emdNm', 'zipNo', 'roadAddrPart2', 'emdNo', 'sggNm', 'jibunAddr', 'siNm', 'roadAddrPart1', 'bdNm', 'admCd', 'udrtYn', 'lnbrMnnm', 'roadAddr', 'lnbrSlno', 'buldMnnm', 'bdKdcd', 'liNm', 'rnMgtSn', 'mtYn', 'bdMgtSn', 'buldSlno'])"
      ]
     },
     "execution_count": 29,
     "metadata": {},
     "output_type": "execute_result"
    }
   ],
   "source": [
    "res['results']['juso'][0].keys()"
   ]
  },
  {
   "cell_type": "code",
   "execution_count": 30,
   "id": "012329ff",
   "metadata": {},
   "outputs": [
    {
     "data": {
      "text/plain": [
       "'서울특별시 중구 세종대로 110(태평로1가)'"
      ]
     },
     "execution_count": 30,
     "metadata": {},
     "output_type": "execute_result"
    }
   ],
   "source": [
    "road_add = res['results']['juso'][0]['roadAddr']\n",
    "road_add"
   ]
  },
  {
   "cell_type": "code",
   "execution_count": 32,
   "id": "f857258d",
   "metadata": {},
   "outputs": [
    {
     "data": {
      "text/plain": [
       "['종로구청', '노원구청', '송파구청', '마포구청', '양천구청']"
      ]
     },
     "execution_count": 32,
     "metadata": {},
     "output_type": "execute_result"
    }
   ],
   "source": [
    "places = '종로구청 노원구청 송파구청 마포구청 양천구청'\n",
    "places = places.split(' ')\n",
    "places"
   ]
  },
  {
   "cell_type": "code",
   "execution_count": 33,
   "id": "94e0323e",
   "metadata": {},
   "outputs": [],
   "source": [
    "base_url = 'https://business.juso.go.kr/addrlink/addrLinkApi.do'\n",
    "params1 = f'currentPage=1&countPerPage=10&confmKey={api_key}'\n",
    "addr_list = []\n",
    "for i in places:\n",
    "    params2 = f'keyword={quote(i)}&resultType=json'\n",
    "    url = f'{base_url}?{params1}&{params2}'\n",
    "    result = requests.get(url)\n",
    "    res = json.loads(result.text)\n",
    "    road_add = res['results']['juso'][0]['roadAddr']\n",
    "    addr_list.append(road_add)"
   ]
  },
  {
   "cell_type": "code",
   "execution_count": 34,
   "id": "8cc2abcd",
   "metadata": {
    "collapsed": true
   },
   "outputs": [
    {
     "data": {
      "text/plain": [
       "['서울특별시 종로구 종로1길 36(수송동)',\n",
       " '서울특별시 노원구 노해로 437(상계동)',\n",
       " '서울특별시 송파구 올림픽로 326(신천동)',\n",
       " '서울특별시 마포구 월드컵로 지하190(성산동)',\n",
       " '서울특별시 양천구 목동동로 105(신정동)']"
      ]
     },
     "execution_count": 34,
     "metadata": {},
     "output_type": "execute_result"
    }
   ],
   "source": [
    "addr_list"
   ]
  },
  {
   "cell_type": "code",
   "execution_count": 35,
   "id": "4c76fd4c",
   "metadata": {},
   "outputs": [],
   "source": [
    "import pandas as pd\n",
    "# 데이터 프레임으로 저장\n",
    "df = pd.DataFrame({'공공기관':places, '도로명주소':addr_list})\n",
    "df.to_csv('공공기관_행안부.csv')"
   ]
  },
  {
   "cell_type": "code",
   "execution_count": null,
   "id": "db38b157",
   "metadata": {},
   "outputs": [],
   "source": []
  }
 ],
 "metadata": {
  "kernelspec": {
   "display_name": "Python 3 (ipykernel)",
   "language": "python",
   "name": "python3"
  },
  "language_info": {
   "codemirror_mode": {
    "name": "ipython",
    "version": 3
   },
   "file_extension": ".py",
   "mimetype": "text/x-python",
   "name": "python",
   "nbconvert_exporter": "python",
   "pygments_lexer": "ipython3",
   "version": "3.8.7"
  }
 },
 "nbformat": 4,
 "nbformat_minor": 5
}
