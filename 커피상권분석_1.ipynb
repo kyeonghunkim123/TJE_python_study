{
 "cells": [
  {
   "cell_type": "code",
   "execution_count": 37,
   "id": "26d88c2d",
   "metadata": {},
   "outputs": [],
   "source": [
    "import numpy as np\n",
    "import pandas as pd\n",
    "from glob import glob\n",
    "from tqdm.notebook import tqdm"
   ]
  },
  {
   "cell_type": "markdown",
   "id": "6250403a",
   "metadata": {},
   "source": [
    "# 커피지수 part_1"
   ]
  },
  {
   "cell_type": "code",
   "execution_count": 38,
   "id": "bfb9d0aa",
   "metadata": {},
   "outputs": [],
   "source": [
    "# 1.데이터로부터 4개 커피숍 정보 추출\n",
    "data_dir = './data1/소상공인'\n",
    "df = pd.read_csv(f'{data_dir}/소상공인시장진흥공단_상가(상권)정보_서울_202112.csv')\n",
    " "
   ]
  },
  {
   "cell_type": "code",
   "execution_count": 39,
   "id": "c367936a",
   "metadata": {},
   "outputs": [],
   "source": [
    "# 업종중분류코드 : Q12 --> 카페/커피샵\n",
    "df = df[df.상권업종중분류코드 == 'Q12']"
   ]
  },
  {
   "cell_type": "code",
   "execution_count": 40,
   "id": "1fbf75a5",
   "metadata": {},
   "outputs": [
    {
     "name": "stdout",
     "output_type": "stream",
     "text": [
      "(18628, 4)\n"
     ]
    },
    {
     "data": {
      "text/html": [
       "<div>\n",
       "<style scoped>\n",
       "    .dataframe tbody tr th:only-of-type {\n",
       "        vertical-align: middle;\n",
       "    }\n",
       "\n",
       "    .dataframe tbody tr th {\n",
       "        vertical-align: top;\n",
       "    }\n",
       "\n",
       "    .dataframe thead th {\n",
       "        text-align: right;\n",
       "    }\n",
       "</style>\n",
       "<table border=\"1\" class=\"dataframe\">\n",
       "  <thead>\n",
       "    <tr style=\"text-align: right;\">\n",
       "      <th></th>\n",
       "      <th>상호명</th>\n",
       "      <th>지점명</th>\n",
       "      <th>시도명</th>\n",
       "      <th>시군구명</th>\n",
       "    </tr>\n",
       "  </thead>\n",
       "  <tbody>\n",
       "    <tr>\n",
       "      <th>23</th>\n",
       "      <td>커피빈</td>\n",
       "      <td>코리아대학로대명거리점</td>\n",
       "      <td>서울특별시</td>\n",
       "      <td>종로구</td>\n",
       "    </tr>\n",
       "    <tr>\n",
       "      <th>99</th>\n",
       "      <td>요거프레소</td>\n",
       "      <td>쌍문점</td>\n",
       "      <td>서울특별시</td>\n",
       "      <td>도봉구</td>\n",
       "    </tr>\n",
       "    <tr>\n",
       "      <th>191</th>\n",
       "      <td>우성커피숍</td>\n",
       "      <td>NaN</td>\n",
       "      <td>서울특별시</td>\n",
       "      <td>양천구</td>\n",
       "    </tr>\n",
       "  </tbody>\n",
       "</table>\n",
       "</div>"
      ],
      "text/plain": [
       "       상호명          지점명    시도명 시군구명\n",
       "23     커피빈  코리아대학로대명거리점  서울특별시  종로구\n",
       "99   요거프레소          쌍문점  서울특별시  도봉구\n",
       "191  우성커피숍          NaN  서울특별시  양천구"
      ]
     },
     "execution_count": 40,
     "metadata": {},
     "output_type": "execute_result"
    }
   ],
   "source": [
    "df = df[['상호명', '지점명', '시도명', '시군구명']]\n",
    "print(df.shape)\n",
    "df.head(3)"
   ]
  },
  {
   "cell_type": "code",
   "execution_count": 46,
   "id": "e5eded37",
   "metadata": {
    "scrolled": true
   },
   "outputs": [
    {
     "name": "stdout",
     "output_type": "stream",
     "text": [
      "467\n"
     ]
    },
    {
     "data": {
      "text/html": [
       "<div>\n",
       "<style scoped>\n",
       "    .dataframe tbody tr th:only-of-type {\n",
       "        vertical-align: middle;\n",
       "    }\n",
       "\n",
       "    .dataframe tbody tr th {\n",
       "        vertical-align: top;\n",
       "    }\n",
       "\n",
       "    .dataframe thead th {\n",
       "        text-align: right;\n",
       "    }\n",
       "</style>\n",
       "<table border=\"1\" class=\"dataframe\">\n",
       "  <thead>\n",
       "    <tr style=\"text-align: right;\">\n",
       "      <th></th>\n",
       "      <th>상호명</th>\n",
       "      <th>지점명</th>\n",
       "      <th>시도명</th>\n",
       "      <th>시군구명</th>\n",
       "    </tr>\n",
       "  </thead>\n",
       "  <tbody>\n",
       "    <tr>\n",
       "      <th>1544</th>\n",
       "      <td>스타벅스</td>\n",
       "      <td>동숭로아트점</td>\n",
       "      <td>서울특별시</td>\n",
       "      <td>종로구</td>\n",
       "    </tr>\n",
       "    <tr>\n",
       "      <th>2474</th>\n",
       "      <td>스타벅스남부터미널2점</td>\n",
       "      <td>남부터미널2점</td>\n",
       "      <td>서울특별시</td>\n",
       "      <td>서초구</td>\n",
       "    </tr>\n",
       "    <tr>\n",
       "      <th>2570</th>\n",
       "      <td>스타벅스</td>\n",
       "      <td>현대목동점</td>\n",
       "      <td>서울특별시</td>\n",
       "      <td>양천구</td>\n",
       "    </tr>\n",
       "  </tbody>\n",
       "</table>\n",
       "</div>"
      ],
      "text/plain": [
       "              상호명      지점명    시도명 시군구명\n",
       "1544         스타벅스   동숭로아트점  서울특별시  종로구\n",
       "2474  스타벅스남부터미널2점  남부터미널2점  서울특별시  서초구\n",
       "2570         스타벅스    현대목동점  서울특별시  양천구"
      ]
     },
     "execution_count": 46,
     "metadata": {},
     "output_type": "execute_result"
    }
   ],
   "source": [
    "# 스타벅스 커피숍 case=False: 대소문자무시하고 찾기\n",
    "sb = df[df.상호명.str.contains('스타벅스|STARBUCKS', case=False)]\n",
    "print(len(sb))\n",
    "sb.head(3)\n"
   ]
  },
  {
   "cell_type": "code",
   "execution_count": 42,
   "id": "0920f373",
   "metadata": {},
   "outputs": [
    {
     "data": {
      "text/html": [
       "<div>\n",
       "<style scoped>\n",
       "    .dataframe tbody tr th:only-of-type {\n",
       "        vertical-align: middle;\n",
       "    }\n",
       "\n",
       "    .dataframe tbody tr th {\n",
       "        vertical-align: top;\n",
       "    }\n",
       "\n",
       "    .dataframe thead th {\n",
       "        text-align: right;\n",
       "    }\n",
       "</style>\n",
       "<table border=\"1\" class=\"dataframe\">\n",
       "  <thead>\n",
       "    <tr style=\"text-align: right;\">\n",
       "      <th></th>\n",
       "      <th>상호명</th>\n",
       "      <th>지점명</th>\n",
       "      <th>시도명</th>\n",
       "      <th>시군구명</th>\n",
       "    </tr>\n",
       "  </thead>\n",
       "  <tbody>\n",
       "  </tbody>\n",
       "</table>\n",
       "</div>"
      ],
      "text/plain": [
       "Empty DataFrame\n",
       "Columns: [상호명, 지점명, 시도명, 시군구명]\n",
       "Index: []"
      ]
     },
     "execution_count": 42,
     "metadata": {},
     "output_type": "execute_result"
    }
   ],
   "source": [
    "# 지점명중 스타벅스지점명이 없는 데이터 검색\n",
    "df[df.지점명.str.contains('스타벅스|STARBUCKS', case=False, \n",
    "                          na=False)]"
   ]
  },
  {
   "cell_type": "code",
   "execution_count": 49,
   "id": "550f86c2",
   "metadata": {
    "scrolled": false
   },
   "outputs": [
    {
     "name": "stdout",
     "output_type": "stream",
     "text": [
      "148\n"
     ]
    }
   ],
   "source": [
    "# 커피빈 이디야 빽다방의 한/영문 같이검색 cb, ed, bd\n",
    "cb= df[df.상호명.str.contains('커피빈|COFFEEBEAN', case=False)]\n",
    "print(len(cb))"
   ]
  },
  {
   "cell_type": "code",
   "execution_count": 53,
   "id": "17252125",
   "metadata": {
    "scrolled": true
   },
   "outputs": [
    {
     "name": "stdout",
     "output_type": "stream",
     "text": [
      "416\n"
     ]
    },
    {
     "data": {
      "text/html": [
       "<div>\n",
       "<style scoped>\n",
       "    .dataframe tbody tr th:only-of-type {\n",
       "        vertical-align: middle;\n",
       "    }\n",
       "\n",
       "    .dataframe tbody tr th {\n",
       "        vertical-align: top;\n",
       "    }\n",
       "\n",
       "    .dataframe thead th {\n",
       "        text-align: right;\n",
       "    }\n",
       "</style>\n",
       "<table border=\"1\" class=\"dataframe\">\n",
       "  <thead>\n",
       "    <tr style=\"text-align: right;\">\n",
       "      <th></th>\n",
       "      <th>상호명</th>\n",
       "      <th>지점명</th>\n",
       "      <th>시도명</th>\n",
       "      <th>시군구명</th>\n",
       "    </tr>\n",
       "  </thead>\n",
       "  <tbody>\n",
       "    <tr>\n",
       "      <th>1131</th>\n",
       "      <td>이디야커피</td>\n",
       "      <td>신길역점</td>\n",
       "      <td>서울특별시</td>\n",
       "      <td>영등포구</td>\n",
       "    </tr>\n",
       "    <tr>\n",
       "      <th>1495</th>\n",
       "      <td>이디야커피</td>\n",
       "      <td>라이프점</td>\n",
       "      <td>서울특별시</td>\n",
       "      <td>영등포구</td>\n",
       "    </tr>\n",
       "    <tr>\n",
       "      <th>2397</th>\n",
       "      <td>이디야커피양재AT점</td>\n",
       "      <td>양재AT점</td>\n",
       "      <td>서울특별시</td>\n",
       "      <td>서초구</td>\n",
       "    </tr>\n",
       "  </tbody>\n",
       "</table>\n",
       "</div>"
      ],
      "text/plain": [
       "             상호명    지점명    시도명  시군구명\n",
       "1131       이디야커피   신길역점  서울특별시  영등포구\n",
       "1495       이디야커피   라이프점  서울특별시  영등포구\n",
       "2397  이디야커피양재AT점  양재AT점  서울특별시   서초구"
      ]
     },
     "execution_count": 53,
     "metadata": {},
     "output_type": "execute_result"
    }
   ],
   "source": [
    "ed = df[df.상호명.str.contains('이디야|EDIYA', case=False)]\n",
    "print(len(ed))\n",
    "ed.head(3)"
   ]
  },
  {
   "cell_type": "code",
   "execution_count": 52,
   "id": "d243d64e",
   "metadata": {},
   "outputs": [
    {
     "name": "stdout",
     "output_type": "stream",
     "text": [
      "416\n"
     ]
    },
    {
     "data": {
      "text/html": [
       "<div>\n",
       "<style scoped>\n",
       "    .dataframe tbody tr th:only-of-type {\n",
       "        vertical-align: middle;\n",
       "    }\n",
       "\n",
       "    .dataframe tbody tr th {\n",
       "        vertical-align: top;\n",
       "    }\n",
       "\n",
       "    .dataframe thead th {\n",
       "        text-align: right;\n",
       "    }\n",
       "</style>\n",
       "<table border=\"1\" class=\"dataframe\">\n",
       "  <thead>\n",
       "    <tr style=\"text-align: right;\">\n",
       "      <th></th>\n",
       "      <th>상호명</th>\n",
       "      <th>시도명</th>\n",
       "      <th>시군구명</th>\n",
       "    </tr>\n",
       "  </thead>\n",
       "  <tbody>\n",
       "    <tr>\n",
       "      <th>3474</th>\n",
       "      <td>이디야커피</td>\n",
       "      <td>충청북도</td>\n",
       "      <td>음성군</td>\n",
       "    </tr>\n",
       "    <tr>\n",
       "      <th>5379</th>\n",
       "      <td>이디야커피</td>\n",
       "      <td>충청북도</td>\n",
       "      <td>단양군</td>\n",
       "    </tr>\n",
       "    <tr>\n",
       "      <th>5449</th>\n",
       "      <td>이디야커피</td>\n",
       "      <td>충청북도</td>\n",
       "      <td>진천군</td>\n",
       "    </tr>\n",
       "  </tbody>\n",
       "</table>\n",
       "</div>"
      ],
      "text/plain": [
       "        상호명   시도명 시군구명\n",
       "3474  이디야커피  충청북도  음성군\n",
       "5379  이디야커피  충청북도  단양군\n",
       "5449  이디야커피  충청북도  진천군"
      ]
     },
     "execution_count": 52,
     "metadata": {},
     "output_type": "execute_result"
    }
   ],
   "source": [
    "ed1 = df[df.상호명.str.contains('이디야|ediya', case=False)]\n",
    "print(len(ed1))\n",
    "ed.head(3)"
   ]
  },
  {
   "cell_type": "code",
   "execution_count": 12,
   "id": "ce19d7c6",
   "metadata": {
    "collapsed": true
   },
   "outputs": [
    {
     "data": {
      "text/html": [
       "<div>\n",
       "<style scoped>\n",
       "    .dataframe tbody tr th:only-of-type {\n",
       "        vertical-align: middle;\n",
       "    }\n",
       "\n",
       "    .dataframe tbody tr th {\n",
       "        vertical-align: top;\n",
       "    }\n",
       "\n",
       "    .dataframe thead th {\n",
       "        text-align: right;\n",
       "    }\n",
       "</style>\n",
       "<table border=\"1\" class=\"dataframe\">\n",
       "  <thead>\n",
       "    <tr style=\"text-align: right;\">\n",
       "      <th></th>\n",
       "      <th>상호명</th>\n",
       "      <th>지점명</th>\n",
       "      <th>시도명</th>\n",
       "      <th>시군구명</th>\n",
       "    </tr>\n",
       "  </thead>\n",
       "  <tbody>\n",
       "    <tr>\n",
       "      <th>7179</th>\n",
       "      <td>빽다방공덕새창로점</td>\n",
       "      <td>공덕새창로점</td>\n",
       "      <td>서울특별시</td>\n",
       "      <td>마포구</td>\n",
       "    </tr>\n",
       "    <tr>\n",
       "      <th>7789</th>\n",
       "      <td>빽다방서초우성점</td>\n",
       "      <td>서초우성점</td>\n",
       "      <td>서울특별시</td>\n",
       "      <td>서초구</td>\n",
       "    </tr>\n",
       "    <tr>\n",
       "      <th>18660</th>\n",
       "      <td>빽다방중계은행사거리점</td>\n",
       "      <td>중계은행사거리점</td>\n",
       "      <td>서울특별시</td>\n",
       "      <td>노원구</td>\n",
       "    </tr>\n",
       "  </tbody>\n",
       "</table>\n",
       "</div>"
      ],
      "text/plain": [
       "               상호명       지점명    시도명 시군구명\n",
       "7179     빽다방공덕새창로점    공덕새창로점  서울특별시  마포구\n",
       "7789      빽다방서초우성점     서초우성점  서울특별시  서초구\n",
       "18660  빽다방중계은행사거리점  중계은행사거리점  서울특별시  노원구"
      ]
     },
     "execution_count": 12,
     "metadata": {},
     "output_type": "execute_result"
    }
   ],
   "source": [
    "bd = df[df.상호명.str.contains('빽다방|PAIKSCOFFEE', case=False)]\n",
    "bd.head(3)"
   ]
  },
  {
   "cell_type": "code",
   "execution_count": 13,
   "id": "f11929d4",
   "metadata": {},
   "outputs": [
    {
     "data": {
      "text/plain": [
       "(467, 148, 416, 142)"
      ]
     },
     "execution_count": 13,
     "metadata": {},
     "output_type": "execute_result"
    }
   ],
   "source": [
    "len(sb), len(cb), len(ed), len(bd)"
   ]
  },
  {
   "cell_type": "markdown",
   "id": "ad0ed2f5",
   "metadata": {},
   "source": [
    "# 전국 데이터에서 4개 매장 정보 추출"
   ]
  },
  {
   "cell_type": "code",
   "execution_count": 31,
   "id": "5997ee38",
   "metadata": {},
   "outputs": [],
   "source": [
    "# 빈 데이터 프레임을 만들기\n",
    "starbucks = pd.DataFrame(columns=['상호명','시도명', '시군구명'])\n",
    "coffeebean = pd.DataFrame(columns=['상호명','시도명', '시군구명'])\n",
    "ediya = pd.DataFrame(columns=['상호명','시도명', '시군구명'])\n",
    "paik = pd.DataFrame(columns=['상호명','시도명', '시군구명'])"
   ]
  },
  {
   "cell_type": "code",
   "execution_count": 27,
   "id": "24588bc0",
   "metadata": {
    "scrolled": true
   },
   "outputs": [
    {
     "data": {
      "application/vnd.jupyter.widget-view+json": {
       "model_id": "7561bdee0f8148e5923466857648d0b4",
       "version_major": 2,
       "version_minor": 0
      },
      "text/plain": [
       "  0%|          | 0/17 [00:00<?, ?it/s]"
      ]
     },
     "metadata": {},
     "output_type": "display_data"
    }
   ],
   "source": [
    "# 디렉토리내 데이터파일을 for문으로 전처리 \n",
    "for file in tqdm(glob(f'{data_dir}/*.csv')):\n",
    "    df = pd.read_csv(file, low_memory=False)\n",
    "    df = df[df.상권업종중분류코드 == 'Q12']\n",
    "    df = df[['상호명', '시도명', '시군구명']]\n",
    "    sb = df[df.상호명.str.contains('스타벅스|STARBUCKS', case=False)]\n",
    "    cb = df[df.상호명.str.contains('커피빈|COFFEEBEAN', case=False)]\n",
    "    ed = df[df.상호명.str.contains('이디야|EDIYA', case=False)]\n",
    "    bd = df[df.상호명.str.contains('빽다방|PAIKSCOFFEE', case=False)]\n",
    "    \n",
    "    starbucks = pd.concat([starbucks, sb])\n",
    "    coffeebean = pd.concat([coffeebean, cb])\n",
    "    ediya = pd.concat([ediya, ed])\n",
    "    paik = pd.concat([paik, bd])"
   ]
  },
  {
   "cell_type": "code",
   "execution_count": 34,
   "id": "768122cd",
   "metadata": {},
   "outputs": [
    {
     "data": {
      "text/plain": [
       "((1504, 3), (257, 3), (2076, 3), (727, 3))"
      ]
     },
     "execution_count": 34,
     "metadata": {},
     "output_type": "execute_result"
    }
   ],
   "source": [
    "starbucks.shape, coffeebean.shape, ediya.shape, paik.shape "
   ]
  },
  {
   "cell_type": "code",
   "execution_count": 22,
   "id": "443e58d8",
   "metadata": {
    "collapsed": true
   },
   "outputs": [
    {
     "data": {
      "text/html": [
       "<div>\n",
       "<style scoped>\n",
       "    .dataframe tbody tr th:only-of-type {\n",
       "        vertical-align: middle;\n",
       "    }\n",
       "\n",
       "    .dataframe tbody tr th {\n",
       "        vertical-align: top;\n",
       "    }\n",
       "\n",
       "    .dataframe thead th {\n",
       "        text-align: right;\n",
       "    }\n",
       "</style>\n",
       "<table border=\"1\" class=\"dataframe\">\n",
       "  <thead>\n",
       "    <tr style=\"text-align: right;\">\n",
       "      <th></th>\n",
       "      <th>상호명</th>\n",
       "      <th>시도명</th>\n",
       "      <th>시군구명</th>\n",
       "    </tr>\n",
       "  </thead>\n",
       "  <tbody>\n",
       "    <tr>\n",
       "      <th>84222</th>\n",
       "      <td>빽다방</td>\n",
       "      <td>충청북도</td>\n",
       "      <td>청주시 상당구</td>\n",
       "    </tr>\n",
       "    <tr>\n",
       "      <th>84244</th>\n",
       "      <td>빽다방</td>\n",
       "      <td>충청북도</td>\n",
       "      <td>진천군</td>\n",
       "    </tr>\n",
       "    <tr>\n",
       "      <th>84963</th>\n",
       "      <td>빽다방</td>\n",
       "      <td>충청북도</td>\n",
       "      <td>청주시 흥덕구</td>\n",
       "    </tr>\n",
       "    <tr>\n",
       "      <th>85634</th>\n",
       "      <td>빽다방</td>\n",
       "      <td>충청북도</td>\n",
       "      <td>청주시 청원구</td>\n",
       "    </tr>\n",
       "    <tr>\n",
       "      <th>85821</th>\n",
       "      <td>빽다방</td>\n",
       "      <td>충청북도</td>\n",
       "      <td>보은군</td>\n",
       "    </tr>\n",
       "  </tbody>\n",
       "</table>\n",
       "</div>"
      ],
      "text/plain": [
       "       상호명   시도명     시군구명\n",
       "84222  빽다방  충청북도  청주시 상당구\n",
       "84244  빽다방  충청북도      진천군\n",
       "84963  빽다방  충청북도  청주시 흥덕구\n",
       "85634  빽다방  충청북도  청주시 청원구\n",
       "85821  빽다방  충청북도      보은군"
      ]
     },
     "execution_count": 22,
     "metadata": {},
     "output_type": "execute_result"
    }
   ],
   "source": [
    "paik.tail()"
   ]
  },
  {
   "cell_type": "code",
   "execution_count": 30,
   "id": "3750fc20",
   "metadata": {},
   "outputs": [],
   "source": [
    "starbucks.to_csv('./data1/스타벅스.csv', index=False)\n",
    "coffeebean.to_csv('./data1/커피빈.csv', index=False)\n",
    "ediya.to_csv('./data1/이디야.csv', index=False)\n",
    "paik.to_csv('./data1/빽다방.csv', index=False)"
   ]
  },
  {
   "cell_type": "code",
   "execution_count": null,
   "id": "cbc40596",
   "metadata": {},
   "outputs": [],
   "source": []
  }
 ],
 "metadata": {
  "kernelspec": {
   "display_name": "Python 3 (ipykernel)",
   "language": "python",
   "name": "python3"
  },
  "language_info": {
   "codemirror_mode": {
    "name": "ipython",
    "version": 3
   },
   "file_extension": ".py",
   "mimetype": "text/x-python",
   "name": "python",
   "nbconvert_exporter": "python",
   "pygments_lexer": "ipython3",
   "version": "3.8.7"
  }
 },
 "nbformat": 4,
 "nbformat_minor": 5
}
