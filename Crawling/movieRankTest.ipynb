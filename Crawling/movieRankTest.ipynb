{
 "cells": [
  {
   "cell_type": "code",
   "execution_count": 10,
   "id": "ec24b59a",
   "metadata": {},
   "outputs": [],
   "source": [
    "import requests\n",
    "from bs4 import BeautifulSoup\n",
    "headers = {\t'User-Agent':'Mozilla/5.0 (Windows NT 10.0; WOW64) AppleWebKit/537.36 (KHTML, like Gecko) Chrome/96.0.4664.45 Safari/537.36'}\n",
    "url = 'https://search.daum.net/search?w=tot&DA=YZR&t__nil_searchbox=btn&sug=&sugo=&sq=&o=&q=%EC%98%81%ED%99%94%EC%88%9C%EC%9C%84'"
   ]
  },
  {
   "cell_type": "code",
   "execution_count": 11,
   "id": "ac29fb50",
   "metadata": {},
   "outputs": [],
   "source": [
    "response = requests.get(url, headers=headers)"
   ]
  },
  {
   "cell_type": "code",
   "execution_count": 12,
   "id": "a65086bc",
   "metadata": {},
   "outputs": [],
   "source": [
    "soup = BeautifulSoup(response.text, 'html.parser' )"
   ]
  },
  {
   "cell_type": "code",
   "execution_count": 52,
   "id": "f5d0c511",
   "metadata": {},
   "outputs": [],
   "source": [
    "movieInfoList = soup.find('ol', attrs={'class':'movie_list'}).find_all('li')"
   ]
  },
  {
   "cell_type": "code",
   "execution_count": 53,
   "id": "b9672852",
   "metadata": {},
   "outputs": [],
   "source": [
    "movieInfo = movieInfoList[0]"
   ]
  },
  {
   "cell_type": "code",
   "execution_count": 54,
   "id": "9410f188",
   "metadata": {},
   "outputs": [
    {
     "data": {
      "text/plain": [
       "'1위'"
      ]
     },
     "execution_count": 54,
     "metadata": {},
     "output_type": "execute_result"
    }
   ],
   "source": [
    "movieRank = movieInfo.find('span', attrs={'class':'num_rank01'}).get_text()\n",
    "movieRank"
   ]
  },
  {
   "cell_type": "code",
   "execution_count": 55,
   "id": "1a4b136c",
   "metadata": {},
   "outputs": [
    {
     "data": {
      "text/plain": [
       "'슈퍼 마리오 브라더스'"
      ]
     },
     "execution_count": 55,
     "metadata": {},
     "output_type": "execute_result"
    }
   ],
   "source": [
    "movieTitle = movieInfo.find('a', attrs={'class':'tit_main'}).get_text()\n",
    "movieTitle "
   ]
  },
  {
   "cell_type": "code",
   "execution_count": 56,
   "id": "649becd4",
   "metadata": {},
   "outputs": [],
   "source": [
    "# 점수, 평가참여자수, 예매율, 개봉일자 해보기\n",
    "# movieScore :점수\n",
    "# movieScoreCnt : 평가참여자수\n",
    "# movieTicketSales : 예매율\n",
    "# movieOpenDate : 개봉일자\n",
    "movieOpenDate = movieInfo.find_all(\"dd\", attrs={'class':'cont'})[1].get_text().strip()\n"
   ]
  },
  {
   "cell_type": "code",
   "execution_count": 57,
   "id": "79dbb55b",
   "metadata": {},
   "outputs": [
    {
     "data": {
      "text/plain": [
       "'2023.04.26.'"
      ]
     },
     "execution_count": 57,
     "metadata": {},
     "output_type": "execute_result"
    }
   ],
   "source": [
    "movieOpenDate"
   ]
  },
  {
   "cell_type": "code",
   "execution_count": 62,
   "id": "f97478a6",
   "metadata": {},
   "outputs": [
    {
     "name": "stdout",
     "output_type": "stream",
     "text": [
      "18명 참여\n"
     ]
    }
   ],
   "source": [
    "movieScoreCnt = movieInfo.find('a', attrs={'class':'link_count'}).get_text()\n",
    "print(movieScoreCnt)"
   ]
  },
  {
   "cell_type": "code",
   "execution_count": 73,
   "id": "450e3443",
   "metadata": {},
   "outputs": [
    {
     "name": "stdout",
     "output_type": "stream",
     "text": [
      "순위 : 1위\n",
      "제목 : 슈퍼 마리오 브라더스\n",
      "점수 : 8.4\n",
      "평가참여수 : 18명 참여\n",
      "예매율 : 24.4%\n",
      "개봉일자 : 2023.04.26.\n",
      "순위 : 2위\n",
      "제목 : 존 윅 4\n",
      "점수 : 8.2\n",
      "평가참여수 : 220명 참여\n",
      "예매율 : 15.7%\n",
      "개봉일자 : 2023.04.12.\n",
      "순위 : 3위\n",
      "제목 : 드림\n",
      "점수 : 9.4\n",
      "평가참여수 : 177명 참여\n",
      "예매율 : 11.2%\n",
      "개봉일자 : 2023.04.26.\n",
      "순위 : 4위\n",
      "제목 : 렌필드\n",
      "점수 : 7.5\n",
      "평가참여수 : 6명 참여\n",
      "예매율 : 8.5%\n",
      "개봉일자 : 2023.04.19.\n",
      "순위 : 5위\n",
      "제목 : 옥수역귀신\n",
      "점수 : 6.1\n",
      "평가참여수 : 29명 참여\n",
      "예매율 : 7.1%\n",
      "개봉일자 : 2023.04.19.\n",
      "순위 : 6위\n",
      "제목 : 인셉션\n",
      "점수 : 8.7\n",
      "평가참여수 : 3,497명 참여\n",
      "예매율 : 4.9%\n",
      "개봉일자 : 2020.08.12.\n",
      "순위 : 7위\n",
      "제목 : 스즈메의 문단속\n",
      "점수 : 7.5\n",
      "평가참여수 : 308명 참여\n",
      "예매율 : 4.4%\n",
      "개봉일자 : 2023.03.08.\n",
      "순위 : 8위\n",
      "제목 : 더 퍼스트 슬램덩크\n",
      "점수 : 8.4\n",
      "평가참여수 : 527명 참여\n",
      "예매율 : 4.4%\n",
      "개봉일자 : 2023.01.04.\n",
      "순위 : 9위\n",
      "제목 : 킬링 로맨스\n",
      "점수 : 5.8\n",
      "평가참여수 : 100명 참여\n",
      "예매율 : 3.7%\n",
      "개봉일자 : 2023.04.14.\n",
      "순위 : 10위\n",
      "제목 : 리바운드\n",
      "점수 : 8.9\n",
      "평가참여수 : 412명 참여\n",
      "예매율 : 2.1%\n",
      "개봉일자 : 2023.04.05.\n",
      "순위 : 11위\n",
      "제목 : 라이스보이 슬립스\n",
      "점수 : 9.3\n",
      "평가참여수 : 15명 참여\n",
      "예매율 : 2%\n",
      "개봉일자 : 2023.04.19.\n",
      "순위 : 12위\n",
      "제목 : 초속5센티미터\n",
      "점수 : 8.0\n",
      "평가참여수 : 485명 참여\n",
      "예매율 : 1.4%\n",
      "개봉일자 : 2017.11.02.\n",
      "순위 : 13위\n",
      "제목 : 콜드플레이 뮤직 오브 더 스피어스: 라이브 앳 리버 플레이트\n",
      "점수 : \n",
      "평가참여수 : X\n",
      "예매율 : 0.7%\n",
      "개봉일자 : 2023.04.19.\n",
      "순위 : 14위\n",
      "제목 : 라라랜드\n",
      "점수 : 8.1\n",
      "평가참여수 : 2,233명 참여\n",
      "예매율 : 0.7%\n",
      "개봉일자 : 2020.12.31.\n",
      "순위 : 15위\n",
      "제목 : 카운트\n",
      "점수 : 8.3\n",
      "평가참여수 : 167명 참여\n",
      "예매율 : 0.6%\n",
      "개봉일자 : 2023.02.22.\n",
      "순위 : 16위\n",
      "제목 : 레디 플레이어 원\n",
      "점수 : 7.9\n",
      "평가참여수 : 1,212명 참여\n",
      "예매율 : 0.5%\n",
      "개봉일자 : 2018.03.28.\n",
      "순위 : 17위\n",
      "제목 : 레미제라블\n",
      "점수 : 8.4\n",
      "평가참여수 : 3,679명 참여\n",
      "예매율 : 0.4%\n",
      "개봉일자 : 2012.12.19.\n",
      "순위 : 18위\n",
      "제목 : 거울 속 외딴 성\n",
      "점수 : 9.0\n",
      "평가참여수 : 22명 참여\n",
      "예매율 : 0.4%\n",
      "개봉일자 : 2023.04.12.\n",
      "순위 : 19위\n",
      "제목 : 멍뭉이\n",
      "점수 : 6.5\n",
      "평가참여수 : 106명 참여\n",
      "예매율 : 0.4%\n",
      "개봉일자 : 2023.03.01.\n",
      "순위 : 20위\n",
      "제목 : 귀를 기울이면\n",
      "점수 : 10.0\n",
      "평가참여수 : 2명 참여\n",
      "예매율 : 0.3%\n",
      "개봉일자 : 2023.04.19.\n",
      "순위 : 21위\n",
      "제목 : 프라하 블타바 강변 콘서트\n",
      "점수 : \n",
      "평가참여수 : X\n",
      "예매율 : 0.3%\n",
      "개봉일자 : 2023.04.19.\n",
      "순위 : 22위\n",
      "제목 : 65\n",
      "점수 : 5.0\n",
      "평가참여수 : 45명 참여\n",
      "예매율 : 0.3%\n",
      "개봉일자 : 2023.04.20.\n",
      "순위 : 23위\n",
      "제목 : 에어\n",
      "점수 : 8.1\n",
      "평가참여수 : 31명 참여\n",
      "예매율 : 0.3%\n",
      "개봉일자 : 2023.04.05.\n",
      "순위 : 24위\n",
      "제목 : 너의 이름은.\n",
      "점수 : 7.9\n",
      "평가참여수 : 2,274명 참여\n",
      "예매율 : 0.3%\n",
      "개봉일자 : 2021.09.09.\n",
      "순위 : 25위\n",
      "제목 : 나는 여기에 있다\n",
      "점수 : 7.4\n",
      "평가참여수 : 14명 참여\n",
      "예매율 : 0.3%\n",
      "개봉일자 : 2023.04.12.\n",
      "순위 : 26위\n",
      "제목 : 날씨의 아이\n",
      "점수 : 6.9\n",
      "평가참여수 : 821명 참여\n",
      "예매율 : 0.3%\n",
      "개봉일자 : 2020.05.21.\n",
      "순위 : 27위\n",
      "제목 : 아바타: 물의 길\n",
      "점수 : 7.8\n",
      "평가참여수 : 1,266명 참여\n",
      "예매율 : 0.2%\n",
      "개봉일자 : 2022.12.14.\n",
      "순위 : 28위\n",
      "제목 : 던전 앤 드래곤: 도적들의 명예\n",
      "점수 : 8.2\n",
      "평가참여수 : 90명 참여\n",
      "예매율 : 0.2%\n",
      "개봉일자 : 2023.03.29.\n",
      "순위 : 29위\n",
      "제목 : 아임 히어로 더 파이널\n",
      "점수 : 9.7\n",
      "평가참여수 : 696명 참여\n",
      "예매율 : 0.2%\n",
      "개봉일자 : 2023.03.01.\n",
      "순위 : 30위\n",
      "제목 : 피기\n",
      "점수 : 6.5\n",
      "평가참여수 : 29명 참여\n",
      "예매율 : 0.2%\n",
      "개봉일자 : 2023.04.26.\n"
     ]
    }
   ],
   "source": [
    "for movieInfo in movieInfoList:\n",
    "    movieRank = movieInfo.find('span', attrs={'class':f'img_number'}) \n",
    "    movieTitle = movieInfo.find('a', attrs={'class':'tit_main'})\n",
    "    movieScore = movieInfo.find('em', attrs={'class':'rate'})\n",
    "    movieScoreCnt = movieInfo.find('a', attrs={'class':'link_count'})\n",
    "    ticketSalesAndOpenDate = movieInfo.find_all('dd', attrs={'class':'cont'})\n",
    "    if len(ticketSalesAndOpenDate) > 1:\n",
    "        movieTicketSales = ticketSalesAndOpenDate[0]\n",
    "        movieOpenDate = ticketSalesAndOpenDate[1]\n",
    "    else: # 개봉일자가 없을 경우\n",
    "        movieTicketSales = ticketSalesAndOpenDate[0]\n",
    "\n",
    "    print(f'순위 : {movieRank.get_text() if movieRank else \"X\"}')\n",
    "    print(f'제목 : {movieTitle.get_text() if movieTitle else \"X\"}')\n",
    "    print(f'점수 : {movieScore.get_text() if movieScore else \"X\"}')\n",
    "    print(f'평가참여수 : {movieScoreCnt.get_text() if movieScoreCnt else \"X\"}')\n",
    "    print(f'예매율 : {movieTicketSales.get_text() if movieTicketSales else \"X\"}')\n",
    "    print(f'개봉일자 : {movieOpenDate.get_text().strip() if movieOpenDate else \"X\"}')\n",
    " "
   ]
  },
  {
   "cell_type": "code",
   "execution_count": null,
   "id": "fd1a2565",
   "metadata": {},
   "outputs": [],
   "source": []
  }
 ],
 "metadata": {
  "kernelspec": {
   "display_name": "Python 3 (ipykernel)",
   "language": "python",
   "name": "python3"
  },
  "language_info": {
   "codemirror_mode": {
    "name": "ipython",
    "version": 3
   },
   "file_extension": ".py",
   "mimetype": "text/x-python",
   "name": "python",
   "nbconvert_exporter": "python",
   "pygments_lexer": "ipython3",
   "version": "3.8.7"
  }
 },
 "nbformat": 4,
 "nbformat_minor": 5
}
