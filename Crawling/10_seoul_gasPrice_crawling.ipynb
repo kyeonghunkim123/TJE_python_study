{
 "cells": [
  {
   "cell_type": "markdown",
   "id": "7f0bf1d9",
   "metadata": {},
   "source": [
    "# 어느 주유소가 쌀까?"
   ]
  },
  {
   "cell_type": "code",
   "execution_count": 1,
   "id": "06b2dded",
   "metadata": {},
   "outputs": [],
   "source": [
    "from selenium import webdriver\n",
    "from selenium.webdriver.common.keys import Keys\n",
    "from selenium.webdriver.common.by import By\n",
    "from bs4 import BeautifulSoup\n",
    "import time\n",
    "import pandas as pd"
   ]
  },
  {
   "cell_type": "code",
   "execution_count": 17,
   "id": "0a7f1f77",
   "metadata": {},
   "outputs": [],
   "source": [
    "url = 'https://www.opinet.co.kr/user/main/mainView.do'\n",
    "driver = webdriver.Chrome()\n",
    "driver.get(url)\n",
    "time.sleep(3)"
   ]
  },
  {
   "cell_type": "code",
   "execution_count": 16,
   "id": "1ad1c0d5",
   "metadata": {
    "collapsed": true
   },
   "outputs": [
    {
     "ename": "NoSuchElementException",
     "evalue": "Message: no such element: Unable to locate element: {\"method\":\"css selector\",\"selector\":\".ic_m1\"}\n  (Session info: chrome=111.0.5563.149)\nStacktrace:\nBacktrace:\n\t(No symbol) [0x00B6DCE3]\n\t(No symbol) [0x00B039D1]\n\t(No symbol) [0x00A14DA8]\n\t(No symbol) [0x00A4019F]\n\t(No symbol) [0x00A403AB]\n\t(No symbol) [0x00A6EE62]\n\t(No symbol) [0x00A5AF14]\n\t(No symbol) [0x00A6D57C]\n\t(No symbol) [0x00A5ACC6]\n\t(No symbol) [0x00A36F68]\n\t(No symbol) [0x00A380CD]\n\tGetHandleVerifier [0x00DE3832+2506274]\n\tGetHandleVerifier [0x00E19794+2727300]\n\tGetHandleVerifier [0x00E1E36C+2746716]\n\tGetHandleVerifier [0x00C16690+617600]\n\t(No symbol) [0x00B0C712]\n\t(No symbol) [0x00B11FF8]\n\t(No symbol) [0x00B120DB]\n\t(No symbol) [0x00B1C63B]\n\tBaseThreadInitThunk [0x774E0099+25]\n\tRtlGetAppContainerNamedObjectPath [0x77D17B6E+286]\n\tRtlGetAppContainerNamedObjectPath [0x77D17B3E+238]\n",
     "output_type": "error",
     "traceback": [
      "\u001b[1;31m---------------------------------------------------------------------------\u001b[0m",
      "\u001b[1;31mNoSuchElementException\u001b[0m                    Traceback (most recent call last)",
      "Cell \u001b[1;32mIn[16], line 2\u001b[0m\n\u001b[0;32m      1\u001b[0m \u001b[38;5;66;03m# 팝업창 싼주유소 찾기 클릭\u001b[39;00m\n\u001b[1;32m----> 2\u001b[0m \u001b[43mdriver\u001b[49m\u001b[38;5;241;43m.\u001b[39;49m\u001b[43mfind_element\u001b[49m\u001b[43m(\u001b[49m\u001b[43mBy\u001b[49m\u001b[38;5;241;43m.\u001b[39;49m\u001b[43mCSS_SELECTOR\u001b[49m\u001b[43m,\u001b[49m\u001b[43m \u001b[49m\u001b[38;5;124;43m'\u001b[39;49m\u001b[38;5;124;43m.ic_m1\u001b[39;49m\u001b[38;5;124;43m'\u001b[39;49m\u001b[43m)\u001b[49m\u001b[38;5;241m.\u001b[39mclick()\n",
      "File \u001b[1;32mc:\\python38\\lib\\site-packages\\selenium\\webdriver\\remote\\webdriver.py:831\u001b[0m, in \u001b[0;36mWebDriver.find_element\u001b[1;34m(self, by, value)\u001b[0m\n\u001b[0;32m    828\u001b[0m     by \u001b[38;5;241m=\u001b[39m By\u001b[38;5;241m.\u001b[39mCSS_SELECTOR\n\u001b[0;32m    829\u001b[0m     value \u001b[38;5;241m=\u001b[39m \u001b[38;5;124mf\u001b[39m\u001b[38;5;124m'\u001b[39m\u001b[38;5;124m[name=\u001b[39m\u001b[38;5;124m\"\u001b[39m\u001b[38;5;132;01m{\u001b[39;00mvalue\u001b[38;5;132;01m}\u001b[39;00m\u001b[38;5;124m\"\u001b[39m\u001b[38;5;124m]\u001b[39m\u001b[38;5;124m'\u001b[39m\n\u001b[1;32m--> 831\u001b[0m \u001b[38;5;28;01mreturn\u001b[39;00m \u001b[38;5;28;43mself\u001b[39;49m\u001b[38;5;241;43m.\u001b[39;49m\u001b[43mexecute\u001b[49m\u001b[43m(\u001b[49m\u001b[43mCommand\u001b[49m\u001b[38;5;241;43m.\u001b[39;49m\u001b[43mFIND_ELEMENT\u001b[49m\u001b[43m,\u001b[49m\u001b[43m \u001b[49m\u001b[43m{\u001b[49m\u001b[38;5;124;43m\"\u001b[39;49m\u001b[38;5;124;43musing\u001b[39;49m\u001b[38;5;124;43m\"\u001b[39;49m\u001b[43m:\u001b[49m\u001b[43m \u001b[49m\u001b[43mby\u001b[49m\u001b[43m,\u001b[49m\u001b[43m \u001b[49m\u001b[38;5;124;43m\"\u001b[39;49m\u001b[38;5;124;43mvalue\u001b[39;49m\u001b[38;5;124;43m\"\u001b[39;49m\u001b[43m:\u001b[49m\u001b[43m \u001b[49m\u001b[43mvalue\u001b[49m\u001b[43m}\u001b[49m\u001b[43m)\u001b[49m[\u001b[38;5;124m\"\u001b[39m\u001b[38;5;124mvalue\u001b[39m\u001b[38;5;124m\"\u001b[39m]\n",
      "File \u001b[1;32mc:\\python38\\lib\\site-packages\\selenium\\webdriver\\remote\\webdriver.py:440\u001b[0m, in \u001b[0;36mWebDriver.execute\u001b[1;34m(self, driver_command, params)\u001b[0m\n\u001b[0;32m    438\u001b[0m response \u001b[38;5;241m=\u001b[39m \u001b[38;5;28mself\u001b[39m\u001b[38;5;241m.\u001b[39mcommand_executor\u001b[38;5;241m.\u001b[39mexecute(driver_command, params)\n\u001b[0;32m    439\u001b[0m \u001b[38;5;28;01mif\u001b[39;00m response:\n\u001b[1;32m--> 440\u001b[0m     \u001b[38;5;28;43mself\u001b[39;49m\u001b[38;5;241;43m.\u001b[39;49m\u001b[43merror_handler\u001b[49m\u001b[38;5;241;43m.\u001b[39;49m\u001b[43mcheck_response\u001b[49m\u001b[43m(\u001b[49m\u001b[43mresponse\u001b[49m\u001b[43m)\u001b[49m\n\u001b[0;32m    441\u001b[0m     response[\u001b[38;5;124m\"\u001b[39m\u001b[38;5;124mvalue\u001b[39m\u001b[38;5;124m\"\u001b[39m] \u001b[38;5;241m=\u001b[39m \u001b[38;5;28mself\u001b[39m\u001b[38;5;241m.\u001b[39m_unwrap_value(response\u001b[38;5;241m.\u001b[39mget(\u001b[38;5;124m\"\u001b[39m\u001b[38;5;124mvalue\u001b[39m\u001b[38;5;124m\"\u001b[39m, \u001b[38;5;28;01mNone\u001b[39;00m))\n\u001b[0;32m    442\u001b[0m     \u001b[38;5;28;01mreturn\u001b[39;00m response\n",
      "File \u001b[1;32mc:\\python38\\lib\\site-packages\\selenium\\webdriver\\remote\\errorhandler.py:245\u001b[0m, in \u001b[0;36mErrorHandler.check_response\u001b[1;34m(self, response)\u001b[0m\n\u001b[0;32m    243\u001b[0m         alert_text \u001b[38;5;241m=\u001b[39m value[\u001b[38;5;124m\"\u001b[39m\u001b[38;5;124malert\u001b[39m\u001b[38;5;124m\"\u001b[39m]\u001b[38;5;241m.\u001b[39mget(\u001b[38;5;124m\"\u001b[39m\u001b[38;5;124mtext\u001b[39m\u001b[38;5;124m\"\u001b[39m)\n\u001b[0;32m    244\u001b[0m     \u001b[38;5;28;01mraise\u001b[39;00m exception_class(message, screen, stacktrace, alert_text)  \u001b[38;5;66;03m# type: ignore[call-arg]  # mypy is not smart enough here\u001b[39;00m\n\u001b[1;32m--> 245\u001b[0m \u001b[38;5;28;01mraise\u001b[39;00m exception_class(message, screen, stacktrace)\n",
      "\u001b[1;31mNoSuchElementException\u001b[0m: Message: no such element: Unable to locate element: {\"method\":\"css selector\",\"selector\":\".ic_m1\"}\n  (Session info: chrome=111.0.5563.149)\nStacktrace:\nBacktrace:\n\t(No symbol) [0x00B6DCE3]\n\t(No symbol) [0x00B039D1]\n\t(No symbol) [0x00A14DA8]\n\t(No symbol) [0x00A4019F]\n\t(No symbol) [0x00A403AB]\n\t(No symbol) [0x00A6EE62]\n\t(No symbol) [0x00A5AF14]\n\t(No symbol) [0x00A6D57C]\n\t(No symbol) [0x00A5ACC6]\n\t(No symbol) [0x00A36F68]\n\t(No symbol) [0x00A380CD]\n\tGetHandleVerifier [0x00DE3832+2506274]\n\tGetHandleVerifier [0x00E19794+2727300]\n\tGetHandleVerifier [0x00E1E36C+2746716]\n\tGetHandleVerifier [0x00C16690+617600]\n\t(No symbol) [0x00B0C712]\n\t(No symbol) [0x00B11FF8]\n\t(No symbol) [0x00B120DB]\n\t(No symbol) [0x00B1C63B]\n\tBaseThreadInitThunk [0x774E0099+25]\n\tRtlGetAppContainerNamedObjectPath [0x77D17B6E+286]\n\tRtlGetAppContainerNamedObjectPath [0x77D17B3E+238]\n"
     ]
    }
   ],
   "source": [
    "# 팝업창 싼주유소 찾기 클릭\n",
    "driver.find_element(By.CSS_SELECTOR, '.ic_m1').click()"
   ]
  },
  {
   "cell_type": "code",
   "execution_count": null,
   "id": "2f08e1f0",
   "metadata": {},
   "outputs": [],
   "source": [
    "metro = driver.find_element(By.XPATH, '//*[@id=\"SIDO_NM0\"]')\n",
    "metro.send_keys('서울')\n",
    "time.sleep(2)"
   ]
  },
  {
   "cell_type": "code",
   "execution_count": 4,
   "id": "ba4980f2",
   "metadata": {},
   "outputs": [],
   "source": [
    "sigungu = driver.find_element(By.XPATH, '//*[@id=\"SIGUNGU_NM0\"]')\n",
    "gu_list = sigungu.find_elements(By.CSS_SELECTOR, 'option')"
   ]
  },
  {
   "cell_type": "code",
   "execution_count": 7,
   "id": "9dc9a746",
   "metadata": {
    "collapsed": true
   },
   "outputs": [
    {
     "name": "stdout",
     "output_type": "stream",
     "text": [
      "시/군/구\n",
      "강남구\n",
      "강동구\n",
      "강북구\n",
      "강서구\n",
      "관악구\n",
      "광진구\n",
      "구로구\n",
      "금천구\n",
      "노원구\n",
      "도봉구\n",
      "동대문구\n",
      "동작구\n",
      "마포구\n",
      "서대문구\n",
      "서초구\n",
      "성동구\n",
      "성북구\n",
      "송파구\n",
      "양천구\n",
      "영등포구\n",
      "용산구\n",
      "은평구\n",
      "종로구\n",
      "중구\n",
      "중랑구\n"
     ]
    }
   ],
   "source": [
    "gu_name =[]\n",
    "for gu in gu_list:\n",
    "    gu_name.append(gu.text)"
   ]
  },
  {
   "cell_type": "code",
   "execution_count": 8,
   "id": "08291922",
   "metadata": {},
   "outputs": [],
   "source": [
    "gu_name = [gu.text for gu in gu_list]"
   ]
  },
  {
   "cell_type": "code",
   "execution_count": 10,
   "id": "39257cc0",
   "metadata": {},
   "outputs": [],
   "source": [
    "del gu_name[0]"
   ]
  },
  {
   "cell_type": "code",
   "execution_count": 11,
   "id": "2144175b",
   "metadata": {
    "collapsed": true
   },
   "outputs": [
    {
     "data": {
      "text/plain": [
       "['강남구',\n",
       " '강동구',\n",
       " '강북구',\n",
       " '강서구',\n",
       " '관악구',\n",
       " '광진구',\n",
       " '구로구',\n",
       " '금천구',\n",
       " '노원구',\n",
       " '도봉구',\n",
       " '동대문구',\n",
       " '동작구',\n",
       " '마포구',\n",
       " '서대문구',\n",
       " '서초구',\n",
       " '성동구',\n",
       " '성북구',\n",
       " '송파구',\n",
       " '양천구',\n",
       " '영등포구',\n",
       " '용산구',\n",
       " '은평구',\n",
       " '종로구',\n",
       " '중구',\n",
       " '중랑구']"
      ]
     },
     "execution_count": 11,
     "metadata": {},
     "output_type": "execute_result"
    }
   ],
   "source": [
    "gu_name"
   ]
  },
  {
   "cell_type": "code",
   "execution_count": 12,
   "id": "d6d2ff59",
   "metadata": {},
   "outputs": [],
   "source": [
    "#엑셀 저장버튼\n",
    "driver.find_element(By.XPATH, '//*[@id=\"glopopd_excel\"]/span').click()"
   ]
  },
  {
   "cell_type": "code",
   "execution_count": 18,
   "id": "250c5f11",
   "metadata": {},
   "outputs": [],
   "source": [
    "#25개 자치구 에 대해서 주유소 정보 엑셀 저장\n",
    "for gu in gu_name:\n",
    "    sigungu = driver.find_element(By.XPATH, '//*[@id=\"SIGUNGU_NM0\"]')\n",
    "    time.sleep(3)\n",
    "    sigungu.send_keys(gu)\n",
    "    time.sleep(5)\n",
    "    driver.find_element(By.XPATH, '//*[@id=\"glopopd_excel\"]/span').click()"
   ]
  },
  {
   "cell_type": "code",
   "execution_count": 19,
   "id": "4614c3d1",
   "metadata": {},
   "outputs": [],
   "source": [
    "driver.close()"
   ]
  },
  {
   "cell_type": "markdown",
   "id": "fce788e2",
   "metadata": {},
   "source": [
    "# 구별 휘발유 가격에 대한 데이터 정리"
   ]
  },
  {
   "cell_type": "code",
   "execution_count": 20,
   "id": "e26de97a",
   "metadata": {},
   "outputs": [],
   "source": [
    "import pandas as pd\n",
    "from glob import glob\n",
    "import warnings\n",
    "warnings.filterwarnings('ignore')"
   ]
  },
  {
   "cell_type": "code",
   "execution_count": null,
   "id": "e72d43b7",
   "metadata": {},
   "outputs": [],
   "source": [
    "glob(r'C:\\workspace\\gasData\\지역*.xls')  "
   ]
  },
  {
   "cell_type": "code",
   "execution_count": 23,
   "id": "6b68dab8",
   "metadata": {},
   "outputs": [
    {
     "name": "stdout",
     "output_type": "stream",
     "text": [
      "c:\\python\\test\\naver\n",
      "c:\\python\\test\\naver\n"
     ]
    }
   ],
   "source": [
    "# c:\\python\\test\\naver\n",
    "print('c:\\python\\\\test\\\\naver')\n",
    "print(r'c:\\python\\test\\naver')"
   ]
  },
  {
   "cell_type": "code",
   "execution_count": 26,
   "id": "371e29a4",
   "metadata": {
    "collapsed": true
   },
   "outputs": [
    {
     "name": "stdout",
     "output_type": "stream",
     "text": [
      "Collecting xlrd\n",
      "  Downloading xlrd-2.0.1-py2.py3-none-any.whl (96 kB)\n",
      "     ---------------------------------------- 0.0/96.5 kB ? eta -:--:--\n",
      "     ---------------------------------------- 96.5/96.5 kB ? eta 0:00:00\n",
      "Installing collected packages: xlrd\n",
      "Successfully installed xlrd-2.0.1\n"
     ]
    },
    {
     "name": "stderr",
     "output_type": "stream",
     "text": [
      "\n",
      "[notice] A new release of pip is available: 23.0.1 -> 23.1\n",
      "[notice] To update, run: python.exe -m pip install --upgrade pip\n"
     ]
    }
   ],
   "source": [
    "!pip install xlrd \n",
    "# xlrd패키지 설치"
   ]
  },
  {
   "cell_type": "code",
   "execution_count": 27,
   "id": "3fb16be7",
   "metadata": {
    "collapsed": true
   },
   "outputs": [
    {
     "data": {
      "text/html": [
       "<div>\n",
       "<style scoped>\n",
       "    .dataframe tbody tr th:only-of-type {\n",
       "        vertical-align: middle;\n",
       "    }\n",
       "\n",
       "    .dataframe tbody tr th {\n",
       "        vertical-align: top;\n",
       "    }\n",
       "\n",
       "    .dataframe thead th {\n",
       "        text-align: right;\n",
       "    }\n",
       "</style>\n",
       "<table border=\"1\" class=\"dataframe\">\n",
       "  <thead>\n",
       "    <tr style=\"text-align: right;\">\n",
       "      <th></th>\n",
       "      <th>지역</th>\n",
       "      <th>상호</th>\n",
       "      <th>주소</th>\n",
       "      <th>상표</th>\n",
       "      <th>전화번호</th>\n",
       "      <th>셀프여부</th>\n",
       "      <th>고급휘발유</th>\n",
       "      <th>휘발유</th>\n",
       "      <th>경유</th>\n",
       "      <th>실내등유</th>\n",
       "    </tr>\n",
       "  </thead>\n",
       "  <tbody>\n",
       "    <tr>\n",
       "      <th>0</th>\n",
       "      <td>서울특별시</td>\n",
       "      <td>(주)보성 세곡주유소</td>\n",
       "      <td>서울 강남구  헌릉로 731 (세곡동)</td>\n",
       "      <td>SK에너지</td>\n",
       "      <td>02-445-6870</td>\n",
       "      <td>Y</td>\n",
       "      <td>-</td>\n",
       "      <td>1623</td>\n",
       "      <td>1565</td>\n",
       "      <td>-</td>\n",
       "    </tr>\n",
       "    <tr>\n",
       "      <th>1</th>\n",
       "      <td>서울특별시</td>\n",
       "      <td>자곡셀프주유소</td>\n",
       "      <td>서울 강남구 밤고개로 120 (자곡동)</td>\n",
       "      <td>SK에너지</td>\n",
       "      <td>02-445-5841</td>\n",
       "      <td>Y</td>\n",
       "      <td>-</td>\n",
       "      <td>1669</td>\n",
       "      <td>1575</td>\n",
       "      <td>-</td>\n",
       "    </tr>\n",
       "    <tr>\n",
       "      <th>2</th>\n",
       "      <td>서울특별시</td>\n",
       "      <td>삼성동주유소</td>\n",
       "      <td>서울 강남구 테헤란로 619 (삼성동)</td>\n",
       "      <td>현대오일뱅크</td>\n",
       "      <td>02-508-6572</td>\n",
       "      <td>Y</td>\n",
       "      <td>1929</td>\n",
       "      <td>1684</td>\n",
       "      <td>1609</td>\n",
       "      <td>-</td>\n",
       "    </tr>\n",
       "    <tr>\n",
       "      <th>3</th>\n",
       "      <td>서울특별시</td>\n",
       "      <td>방죽주유소</td>\n",
       "      <td>서울 강남구 밤고개로 215 (율현동)</td>\n",
       "      <td>GS칼텍스</td>\n",
       "      <td>02-459-3434</td>\n",
       "      <td>Y</td>\n",
       "      <td>-</td>\n",
       "      <td>1687</td>\n",
       "      <td>1639</td>\n",
       "      <td>-</td>\n",
       "    </tr>\n",
       "    <tr>\n",
       "      <th>4</th>\n",
       "      <td>서울특별시</td>\n",
       "      <td>오일프러스 셀프</td>\n",
       "      <td>서울 강남구 남부순환로 2651 (도곡동)</td>\n",
       "      <td>SK에너지</td>\n",
       "      <td>02-3462-5100</td>\n",
       "      <td>Y</td>\n",
       "      <td>1886</td>\n",
       "      <td>1704</td>\n",
       "      <td>1669</td>\n",
       "      <td>-</td>\n",
       "    </tr>\n",
       "  </tbody>\n",
       "</table>\n",
       "</div>"
      ],
      "text/plain": [
       "      지역           상호                       주소      상표          전화번호 셀프여부  \\\n",
       "0  서울특별시  (주)보성 세곡주유소    서울 강남구  헌릉로 731 (세곡동)   SK에너지   02-445-6870    Y   \n",
       "1  서울특별시      자곡셀프주유소    서울 강남구 밤고개로 120 (자곡동)   SK에너지   02-445-5841    Y   \n",
       "2  서울특별시       삼성동주유소    서울 강남구 테헤란로 619 (삼성동)  현대오일뱅크   02-508-6572    Y   \n",
       "3  서울특별시        방죽주유소    서울 강남구 밤고개로 215 (율현동)   GS칼텍스   02-459-3434    Y   \n",
       "4  서울특별시     오일프러스 셀프  서울 강남구 남부순환로 2651 (도곡동)   SK에너지  02-3462-5100    Y   \n",
       "\n",
       "  고급휘발유   휘발유    경유 실내등유  \n",
       "0     -  1623  1565    -  \n",
       "1     -  1669  1575    -  \n",
       "2  1929  1684  1609    -  \n",
       "3     -  1687  1639    -  \n",
       "4  1886  1704  1669    -  "
      ]
     },
     "execution_count": 27,
     "metadata": {},
     "output_type": "execute_result"
    }
   ],
   "source": [
    "file = glob(r'C:\\workspace\\gasData\\지역*.xls')[0]  \n",
    "df = pd.read_excel(file, header=2)\n",
    "df.head()"
   ]
  },
  {
   "cell_type": "code",
   "execution_count": 28,
   "id": "6c80d051",
   "metadata": {
    "collapsed": true
   },
   "outputs": [
    {
     "name": "stdout",
     "output_type": "stream",
     "text": [
      "['C:\\\\workspace\\\\gasData\\\\지역_위치별(주유소) (22).xls', 'C:\\\\workspace\\\\gasData\\\\지역_위치별(주유소) (23).xls', 'C:\\\\workspace\\\\gasData\\\\지역_위치별(주유소) (24).xls', 'C:\\\\workspace\\\\gasData\\\\지역_위치별(주유소) (25).xls', 'C:\\\\workspace\\\\gasData\\\\지역_위치별(주유소) (26).xls', 'C:\\\\workspace\\\\gasData\\\\지역_위치별(주유소) (27).xls', 'C:\\\\workspace\\\\gasData\\\\지역_위치별(주유소) (28).xls', 'C:\\\\workspace\\\\gasData\\\\지역_위치별(주유소) (29).xls', 'C:\\\\workspace\\\\gasData\\\\지역_위치별(주유소) (30).xls', 'C:\\\\workspace\\\\gasData\\\\지역_위치별(주유소) (31).xls', 'C:\\\\workspace\\\\gasData\\\\지역_위치별(주유소) (32).xls', 'C:\\\\workspace\\\\gasData\\\\지역_위치별(주유소) (33).xls', 'C:\\\\workspace\\\\gasData\\\\지역_위치별(주유소) (34).xls', 'C:\\\\workspace\\\\gasData\\\\지역_위치별(주유소) (35).xls', 'C:\\\\workspace\\\\gasData\\\\지역_위치별(주유소) (36).xls', 'C:\\\\workspace\\\\gasData\\\\지역_위치별(주유소) (37).xls', 'C:\\\\workspace\\\\gasData\\\\지역_위치별(주유소) (38).xls', 'C:\\\\workspace\\\\gasData\\\\지역_위치별(주유소) (39).xls', 'C:\\\\workspace\\\\gasData\\\\지역_위치별(주유소) (40).xls', 'C:\\\\workspace\\\\gasData\\\\지역_위치별(주유소) (41).xls', 'C:\\\\workspace\\\\gasData\\\\지역_위치별(주유소) (42).xls', 'C:\\\\workspace\\\\gasData\\\\지역_위치별(주유소) (43).xls', 'C:\\\\workspace\\\\gasData\\\\지역_위치별(주유소) (44).xls', 'C:\\\\workspace\\\\gasData\\\\지역_위치별(주유소) (45).xls', 'C:\\\\workspace\\\\gasData\\\\지역_위치별(주유소) (46).xls']\n"
     ]
    }
   ],
   "source": [
    "print(glob(r'C:\\workspace\\gasData\\지역*.xls'))"
   ]
  },
  {
   "cell_type": "code",
   "execution_count": 29,
   "id": "ccc14b15",
   "metadata": {},
   "outputs": [
    {
     "data": {
      "text/plain": [
       "(441, 10)"
      ]
     },
     "execution_count": 29,
     "metadata": {},
     "output_type": "execute_result"
    }
   ],
   "source": [
    "df_list=[]\n",
    "for file in glob(r'C:\\workspace\\gasData\\지역*.xls'):\n",
    "    gs = pd.read_excel(file, header= 2)\n",
    "    df_list.append(gs)\n",
    "df = pd.concat(df_list)\n",
    "df.shape"
   ]
  },
  {
   "cell_type": "code",
   "execution_count": 30,
   "id": "c7068b33",
   "metadata": {
    "collapsed": true
   },
   "outputs": [
    {
     "data": {
      "text/html": [
       "<div>\n",
       "<style scoped>\n",
       "    .dataframe tbody tr th:only-of-type {\n",
       "        vertical-align: middle;\n",
       "    }\n",
       "\n",
       "    .dataframe tbody tr th {\n",
       "        vertical-align: top;\n",
       "    }\n",
       "\n",
       "    .dataframe thead th {\n",
       "        text-align: right;\n",
       "    }\n",
       "</style>\n",
       "<table border=\"1\" class=\"dataframe\">\n",
       "  <thead>\n",
       "    <tr style=\"text-align: right;\">\n",
       "      <th></th>\n",
       "      <th>지역</th>\n",
       "      <th>상호</th>\n",
       "      <th>주소</th>\n",
       "      <th>상표</th>\n",
       "      <th>전화번호</th>\n",
       "      <th>셀프여부</th>\n",
       "      <th>고급휘발유</th>\n",
       "      <th>휘발유</th>\n",
       "      <th>경유</th>\n",
       "      <th>실내등유</th>\n",
       "    </tr>\n",
       "  </thead>\n",
       "  <tbody>\n",
       "    <tr>\n",
       "      <th>0</th>\n",
       "      <td>서울특별시</td>\n",
       "      <td>(주)보성 세곡주유소</td>\n",
       "      <td>서울 강남구  헌릉로 731 (세곡동)</td>\n",
       "      <td>SK에너지</td>\n",
       "      <td>02-445-6870</td>\n",
       "      <td>Y</td>\n",
       "      <td>-</td>\n",
       "      <td>1623</td>\n",
       "      <td>1565</td>\n",
       "      <td>-</td>\n",
       "    </tr>\n",
       "    <tr>\n",
       "      <th>1</th>\n",
       "      <td>서울특별시</td>\n",
       "      <td>자곡셀프주유소</td>\n",
       "      <td>서울 강남구 밤고개로 120 (자곡동)</td>\n",
       "      <td>SK에너지</td>\n",
       "      <td>02-445-5841</td>\n",
       "      <td>Y</td>\n",
       "      <td>-</td>\n",
       "      <td>1669</td>\n",
       "      <td>1575</td>\n",
       "      <td>-</td>\n",
       "    </tr>\n",
       "    <tr>\n",
       "      <th>2</th>\n",
       "      <td>서울특별시</td>\n",
       "      <td>삼성동주유소</td>\n",
       "      <td>서울 강남구 테헤란로 619 (삼성동)</td>\n",
       "      <td>현대오일뱅크</td>\n",
       "      <td>02-508-6572</td>\n",
       "      <td>Y</td>\n",
       "      <td>1929</td>\n",
       "      <td>1684</td>\n",
       "      <td>1609</td>\n",
       "      <td>-</td>\n",
       "    </tr>\n",
       "    <tr>\n",
       "      <th>3</th>\n",
       "      <td>서울특별시</td>\n",
       "      <td>방죽주유소</td>\n",
       "      <td>서울 강남구 밤고개로 215 (율현동)</td>\n",
       "      <td>GS칼텍스</td>\n",
       "      <td>02-459-3434</td>\n",
       "      <td>Y</td>\n",
       "      <td>-</td>\n",
       "      <td>1687</td>\n",
       "      <td>1639</td>\n",
       "      <td>-</td>\n",
       "    </tr>\n",
       "    <tr>\n",
       "      <th>4</th>\n",
       "      <td>서울특별시</td>\n",
       "      <td>오일프러스 셀프</td>\n",
       "      <td>서울 강남구 남부순환로 2651 (도곡동)</td>\n",
       "      <td>SK에너지</td>\n",
       "      <td>02-3462-5100</td>\n",
       "      <td>Y</td>\n",
       "      <td>1886</td>\n",
       "      <td>1704</td>\n",
       "      <td>1669</td>\n",
       "      <td>-</td>\n",
       "    </tr>\n",
       "  </tbody>\n",
       "</table>\n",
       "</div>"
      ],
      "text/plain": [
       "      지역           상호                       주소      상표          전화번호 셀프여부  \\\n",
       "0  서울특별시  (주)보성 세곡주유소    서울 강남구  헌릉로 731 (세곡동)   SK에너지   02-445-6870    Y   \n",
       "1  서울특별시      자곡셀프주유소    서울 강남구 밤고개로 120 (자곡동)   SK에너지   02-445-5841    Y   \n",
       "2  서울특별시       삼성동주유소    서울 강남구 테헤란로 619 (삼성동)  현대오일뱅크   02-508-6572    Y   \n",
       "3  서울특별시        방죽주유소    서울 강남구 밤고개로 215 (율현동)   GS칼텍스   02-459-3434    Y   \n",
       "4  서울특별시     오일프러스 셀프  서울 강남구 남부순환로 2651 (도곡동)   SK에너지  02-3462-5100    Y   \n",
       "\n",
       "  고급휘발유   휘발유    경유 실내등유  \n",
       "0     -  1623  1565    -  \n",
       "1     -  1669  1575    -  \n",
       "2  1929  1684  1609    -  \n",
       "3     -  1687  1639    -  \n",
       "4  1886  1704  1669    -  "
      ]
     },
     "execution_count": 30,
     "metadata": {},
     "output_type": "execute_result"
    }
   ],
   "source": [
    "df.head()"
   ]
  },
  {
   "cell_type": "code",
   "execution_count": 34,
   "id": "03ea9ae6",
   "metadata": {},
   "outputs": [],
   "source": [
    "df = df[['상호', '주소','휘발유', '셀프여부', '상표']]\n",
    "# df.head()\n"
   ]
  },
  {
   "cell_type": "code",
   "execution_count": 35,
   "id": "0df8d5f0",
   "metadata": {
    "collapsed": true
   },
   "outputs": [
    {
     "data": {
      "text/html": [
       "<div>\n",
       "<style scoped>\n",
       "    .dataframe tbody tr th:only-of-type {\n",
       "        vertical-align: middle;\n",
       "    }\n",
       "\n",
       "    .dataframe tbody tr th {\n",
       "        vertical-align: top;\n",
       "    }\n",
       "\n",
       "    .dataframe thead th {\n",
       "        text-align: right;\n",
       "    }\n",
       "</style>\n",
       "<table border=\"1\" class=\"dataframe\">\n",
       "  <thead>\n",
       "    <tr style=\"text-align: right;\">\n",
       "      <th></th>\n",
       "      <th>상호</th>\n",
       "      <th>주소</th>\n",
       "      <th>가격</th>\n",
       "      <th>셀프</th>\n",
       "      <th>상표</th>\n",
       "    </tr>\n",
       "  </thead>\n",
       "  <tbody>\n",
       "    <tr>\n",
       "      <th>0</th>\n",
       "      <td>(주)보성 세곡주유소</td>\n",
       "      <td>서울 강남구  헌릉로 731 (세곡동)</td>\n",
       "      <td>1623</td>\n",
       "      <td>Y</td>\n",
       "      <td>SK에너지</td>\n",
       "    </tr>\n",
       "    <tr>\n",
       "      <th>1</th>\n",
       "      <td>자곡셀프주유소</td>\n",
       "      <td>서울 강남구 밤고개로 120 (자곡동)</td>\n",
       "      <td>1669</td>\n",
       "      <td>Y</td>\n",
       "      <td>SK에너지</td>\n",
       "    </tr>\n",
       "    <tr>\n",
       "      <th>2</th>\n",
       "      <td>삼성동주유소</td>\n",
       "      <td>서울 강남구 테헤란로 619 (삼성동)</td>\n",
       "      <td>1684</td>\n",
       "      <td>Y</td>\n",
       "      <td>현대오일뱅크</td>\n",
       "    </tr>\n",
       "    <tr>\n",
       "      <th>3</th>\n",
       "      <td>방죽주유소</td>\n",
       "      <td>서울 강남구 밤고개로 215 (율현동)</td>\n",
       "      <td>1687</td>\n",
       "      <td>Y</td>\n",
       "      <td>GS칼텍스</td>\n",
       "    </tr>\n",
       "    <tr>\n",
       "      <th>4</th>\n",
       "      <td>오일프러스 셀프</td>\n",
       "      <td>서울 강남구 남부순환로 2651 (도곡동)</td>\n",
       "      <td>1704</td>\n",
       "      <td>Y</td>\n",
       "      <td>SK에너지</td>\n",
       "    </tr>\n",
       "  </tbody>\n",
       "</table>\n",
       "</div>"
      ],
      "text/plain": [
       "            상호                       주소    가격 셀프      상표\n",
       "0  (주)보성 세곡주유소    서울 강남구  헌릉로 731 (세곡동)  1623  Y   SK에너지\n",
       "1      자곡셀프주유소    서울 강남구 밤고개로 120 (자곡동)  1669  Y   SK에너지\n",
       "2       삼성동주유소    서울 강남구 테헤란로 619 (삼성동)  1684  Y  현대오일뱅크\n",
       "3        방죽주유소    서울 강남구 밤고개로 215 (율현동)  1687  Y   GS칼텍스\n",
       "4     오일프러스 셀프  서울 강남구 남부순환로 2651 (도곡동)  1704  Y   SK에너지"
      ]
     },
     "execution_count": 35,
     "metadata": {},
     "output_type": "execute_result"
    }
   ],
   "source": [
    "df.rename(columns={'휘발유':'가격', '셀프여부':'셀프'}, inplace=True)\n",
    "df.head()"
   ]
  },
  {
   "cell_type": "code",
   "execution_count": 36,
   "id": "afcba251",
   "metadata": {},
   "outputs": [],
   "source": [
    "df['구'] = df.주소.str.split().str[1]"
   ]
  },
  {
   "cell_type": "code",
   "execution_count": 37,
   "id": "759c41fa",
   "metadata": {
    "collapsed": true
   },
   "outputs": [
    {
     "data": {
      "text/html": [
       "<div>\n",
       "<style scoped>\n",
       "    .dataframe tbody tr th:only-of-type {\n",
       "        vertical-align: middle;\n",
       "    }\n",
       "\n",
       "    .dataframe tbody tr th {\n",
       "        vertical-align: top;\n",
       "    }\n",
       "\n",
       "    .dataframe thead th {\n",
       "        text-align: right;\n",
       "    }\n",
       "</style>\n",
       "<table border=\"1\" class=\"dataframe\">\n",
       "  <thead>\n",
       "    <tr style=\"text-align: right;\">\n",
       "      <th></th>\n",
       "      <th>상호</th>\n",
       "      <th>주소</th>\n",
       "      <th>가격</th>\n",
       "      <th>셀프</th>\n",
       "      <th>상표</th>\n",
       "      <th>구</th>\n",
       "    </tr>\n",
       "  </thead>\n",
       "  <tbody>\n",
       "    <tr>\n",
       "      <th>0</th>\n",
       "      <td>(주)보성 세곡주유소</td>\n",
       "      <td>서울 강남구  헌릉로 731 (세곡동)</td>\n",
       "      <td>1623</td>\n",
       "      <td>Y</td>\n",
       "      <td>SK에너지</td>\n",
       "      <td>강남구</td>\n",
       "    </tr>\n",
       "    <tr>\n",
       "      <th>1</th>\n",
       "      <td>자곡셀프주유소</td>\n",
       "      <td>서울 강남구 밤고개로 120 (자곡동)</td>\n",
       "      <td>1669</td>\n",
       "      <td>Y</td>\n",
       "      <td>SK에너지</td>\n",
       "      <td>강남구</td>\n",
       "    </tr>\n",
       "    <tr>\n",
       "      <th>2</th>\n",
       "      <td>삼성동주유소</td>\n",
       "      <td>서울 강남구 테헤란로 619 (삼성동)</td>\n",
       "      <td>1684</td>\n",
       "      <td>Y</td>\n",
       "      <td>현대오일뱅크</td>\n",
       "      <td>강남구</td>\n",
       "    </tr>\n",
       "    <tr>\n",
       "      <th>3</th>\n",
       "      <td>방죽주유소</td>\n",
       "      <td>서울 강남구 밤고개로 215 (율현동)</td>\n",
       "      <td>1687</td>\n",
       "      <td>Y</td>\n",
       "      <td>GS칼텍스</td>\n",
       "      <td>강남구</td>\n",
       "    </tr>\n",
       "    <tr>\n",
       "      <th>4</th>\n",
       "      <td>오일프러스 셀프</td>\n",
       "      <td>서울 강남구 남부순환로 2651 (도곡동)</td>\n",
       "      <td>1704</td>\n",
       "      <td>Y</td>\n",
       "      <td>SK에너지</td>\n",
       "      <td>강남구</td>\n",
       "    </tr>\n",
       "  </tbody>\n",
       "</table>\n",
       "</div>"
      ],
      "text/plain": [
       "            상호                       주소    가격 셀프      상표    구\n",
       "0  (주)보성 세곡주유소    서울 강남구  헌릉로 731 (세곡동)  1623  Y   SK에너지  강남구\n",
       "1      자곡셀프주유소    서울 강남구 밤고개로 120 (자곡동)  1669  Y   SK에너지  강남구\n",
       "2       삼성동주유소    서울 강남구 테헤란로 619 (삼성동)  1684  Y  현대오일뱅크  강남구\n",
       "3        방죽주유소    서울 강남구 밤고개로 215 (율현동)  1687  Y   GS칼텍스  강남구\n",
       "4     오일프러스 셀프  서울 강남구 남부순환로 2651 (도곡동)  1704  Y   SK에너지  강남구"
      ]
     },
     "execution_count": 37,
     "metadata": {},
     "output_type": "execute_result"
    }
   ],
   "source": [
    "df.head()"
   ]
  },
  {
   "cell_type": "code",
   "execution_count": 39,
   "id": "65dc3612",
   "metadata": {},
   "outputs": [
    {
     "data": {
      "text/plain": [
       "25"
      ]
     },
     "execution_count": 39,
     "metadata": {},
     "output_type": "execute_result"
    }
   ],
   "source": [
    "df['구'].unique()"
   ]
  },
  {
   "cell_type": "code",
   "execution_count": 40,
   "id": "24a621a8",
   "metadata": {},
   "outputs": [
    {
     "name": "stdout",
     "output_type": "stream",
     "text": [
      "<class 'pandas.core.frame.DataFrame'>\n",
      "Int64Index: 441 entries, 0 to 12\n",
      "Data columns (total 6 columns):\n",
      " #   Column  Non-Null Count  Dtype \n",
      "---  ------  --------------  ----- \n",
      " 0   상호      441 non-null    object\n",
      " 1   주소      441 non-null    object\n",
      " 2   가격      441 non-null    int64 \n",
      " 3   셀프      441 non-null    object\n",
      " 4   상표      441 non-null    object\n",
      " 5   구       441 non-null    object\n",
      "dtypes: int64(1), object(5)\n",
      "memory usage: 24.1+ KB\n"
     ]
    }
   ],
   "source": [
    "df.info()"
   ]
  },
  {
   "cell_type": "code",
   "execution_count": 41,
   "id": "799d523f",
   "metadata": {
    "collapsed": true
   },
   "outputs": [
    {
     "data": {
      "text/plain": [
       "array([1623, 1669, 1684, 1687, 1704, 1725, 1729, 1739, 1745, 1749, 1754,\n",
       "       1759, 1769, 1780, 1797, 1898, 1979, 1998, 2018, 2048, 2081, 2180,\n",
       "       2207, 2228, 2246, 2258, 2270, 2275, 2348, 2578, 1686, 1689, 1696,\n",
       "       1720, 1738, 1831, 1978, 1629, 1635, 1639, 1659, 1667, 1668, 1707,\n",
       "       1628, 1643, 1644, 1645, 1656, 1676, 1677, 1680, 1685, 1690, 1693,\n",
       "       1695, 1698, 1708, 1728, 1737, 1748, 1758, 1895, 1995, 1688, 1756,\n",
       "       1764, 1789, 1798, 1852, 1654, 1665, 1673, 1675, 1694, 1727, 1649,\n",
       "       1655, 1697, 1735, 1757, 2198, 1674, 1658, 1715, 1740, 1795, 1647,\n",
       "       1699, 1767, 1615, 1620, 1653, 1679, 1718, 1790, 1719, 1747, 1799,\n",
       "       1835, 1637, 1619, 1624, 1633, 1638, 1709, 1594, 1678, 1681, 1701,\n",
       "       1705, 1706, 1714, 1752, 1768, 1775, 1784, 1785, 1793, 1948, 1989,\n",
       "       1625, 1746, 1788, 1792, 1962, 1965, 2135, 2148, 1664, 1734, 1884,\n",
       "       1892, 1657, 1663, 1670, 1682, 1713, 1848, 1595, 1605, 1778, 1779,\n",
       "       1909, 2075, 2150, 2199, 1999, 2019, 2030, 2039, 2173, 2175, 2237,\n",
       "       2398, 2749, 1604, 1607, 1609, 1614, 1617, 1627, 2045, 2230, 2240,\n",
       "       1765, 1828, 1879, 2287, 2509, 2753], dtype=int64)"
      ]
     },
     "execution_count": 41,
     "metadata": {},
     "output_type": "execute_result"
    }
   ],
   "source": [
    "# 가격 '-'\n",
    "df['가격'].unique()"
   ]
  },
  {
   "cell_type": "code",
   "execution_count": 42,
   "id": "2fc85030",
   "metadata": {},
   "outputs": [],
   "source": [
    "df = df[df.가격 != '-']"
   ]
  },
  {
   "cell_type": "code",
   "execution_count": 43,
   "id": "4f3fc037",
   "metadata": {
    "collapsed": true
   },
   "outputs": [
    {
     "name": "stdout",
     "output_type": "stream",
     "text": [
      "<class 'pandas.core.frame.DataFrame'>\n",
      "Int64Index: 441 entries, 0 to 12\n",
      "Data columns (total 6 columns):\n",
      " #   Column  Non-Null Count  Dtype \n",
      "---  ------  --------------  ----- \n",
      " 0   상호      441 non-null    object\n",
      " 1   주소      441 non-null    object\n",
      " 2   가격      441 non-null    int32 \n",
      " 3   셀프      441 non-null    object\n",
      " 4   상표      441 non-null    object\n",
      " 5   구       441 non-null    object\n",
      "dtypes: int32(1), object(5)\n",
      "memory usage: 22.4+ KB\n"
     ]
    }
   ],
   "source": [
    "df.가격 = df.가격.astype(int)\n",
    "df.info()"
   ]
  },
  {
   "cell_type": "code",
   "execution_count": 44,
   "id": "02094cf8",
   "metadata": {},
   "outputs": [],
   "source": [
    "df.to_csv('서울_주유소(230418).csv', index=False)"
   ]
  },
  {
   "cell_type": "code",
   "execution_count": null,
   "id": "bc3b192b",
   "metadata": {},
   "outputs": [],
   "source": []
  }
 ],
 "metadata": {
  "kernelspec": {
   "display_name": "Python 3 (ipykernel)",
   "language": "python",
   "name": "python3"
  },
  "language_info": {
   "codemirror_mode": {
    "name": "ipython",
    "version": 3
   },
   "file_extension": ".py",
   "mimetype": "text/x-python",
   "name": "python",
   "nbconvert_exporter": "python",
   "pygments_lexer": "ipython3",
   "version": "3.8.7"
  }
 },
 "nbformat": 4,
 "nbformat_minor": 5
}
