{
 "cells": [
  {
   "cell_type": "code",
   "execution_count": null,
   "id": "6bbd5c6d",
   "metadata": {},
   "outputs": [],
   "source": [
    "# https://youtube-rank.com/board/bbs/board.php?bo_table=youtube\n",
    "# 순위, 카테고리, 채널 , 구독자수, 조회수, 비디오수 \n",
    "# 셀레늄으로 해당페이지를 열고 + BS4 를 사용해서  클롤링 10페이지"
   ]
  },
  {
   "cell_type": "markdown",
   "id": "3afc15ab",
   "metadata": {},
   "source": [
    "# YouTube Ranking"
   ]
  },
  {
   "cell_type": "code",
   "execution_count": 1,
   "id": "9b783f9d",
   "metadata": {},
   "outputs": [],
   "source": [
    "from selenium import webdriver\n",
    "from bs4 import BeautifulSoup\n",
    "import time\n",
    "import pandas as pd"
   ]
  },
  {
   "cell_type": "code",
   "execution_count": 2,
   "id": "a275944e",
   "metadata": {},
   "outputs": [],
   "source": [
    "url = 'https://youtube-rank.com/board/bbs/board.php?bo_table=youtube'\n",
    "driver = webdriver.Chrome()\n",
    "driver.get(url)\n",
    "time.sleep(2)"
   ]
  },
  {
   "cell_type": "code",
   "execution_count": 3,
   "id": "86b923a3",
   "metadata": {},
   "outputs": [
    {
     "data": {
      "text/plain": [
       "100"
      ]
     },
     "execution_count": 3,
     "metadata": {},
     "output_type": "execute_result"
    }
   ],
   "source": [
    "# soup\n",
    "soup = BeautifulSoup(driver.page_source, 'html.parser')\n",
    "trs = soup.select('tr.aos-init')\n",
    "len(trs)"
   ]
  },
  {
   "cell_type": "code",
   "execution_count": 4,
   "id": "44596ae6",
   "metadata": {},
   "outputs": [],
   "source": [
    "tr= trs[0]"
   ]
  },
  {
   "cell_type": "code",
   "execution_count": 8,
   "id": "21174a9a",
   "metadata": {},
   "outputs": [],
   "source": [
    "#순위\n",
    "tr.select_one('.rank').get_text().strip()\n",
    "#카테고리\n",
    "tr.select_one('.category').get_text().strip()[1:-1]\n",
    "#채널명\n",
    "tr.select_one('.subject a').get_text().strip()\n",
    "# 구독자 조회수 비디오갯수\n",
    "subscriber = tr.select_one('.subscriber_cnt').get_text().strip()\n",
    "view = tr.select_one('.view_cnt').get_text().strip()\n",
    "video = tr.select_one('.video_cnt').get_text().strip()"
   ]
  },
  {
   "cell_type": "code",
   "execution_count": 9,
   "id": "fa3603c2",
   "metadata": {},
   "outputs": [
    {
     "data": {
      "text/plain": [
       "('8680만', '303억4016만', '505개')"
      ]
     },
     "execution_count": 9,
     "metadata": {},
     "output_type": "execute_result"
    }
   ],
   "source": [
    "subscriber, view, video"
   ]
  },
  {
   "cell_type": "code",
   "execution_count": 10,
   "id": "02790014",
   "metadata": {},
   "outputs": [],
   "source": [
    "# 첫페이지 크롤링\n",
    "lines = []\n",
    "for tr in trs:\n",
    "    rank = tr.select_one('.rank').get_text().strip()\n",
    "    category = tr.select_one('.category').get_text().strip()[1:-1]\n",
    "    channel = tr.select_one('.subject a').get_text().strip()\n",
    "    subscriber = tr.select_one('.subscriber_cnt').get_text().strip()\n",
    "    view = tr.select_one('.view_cnt').get_text().strip()\n",
    "    video = tr.select_one('.video_cnt').get_text().strip()\n",
    "    lines.append([rank, category, channel, subscriber, view, video])"
   ]
  },
  {
   "cell_type": "code",
   "execution_count": 13,
   "id": "24270b66",
   "metadata": {},
   "outputs": [
    {
     "data": {
      "text/html": [
       "<div>\n",
       "<style scoped>\n",
       "    .dataframe tbody tr th:only-of-type {\n",
       "        vertical-align: middle;\n",
       "    }\n",
       "\n",
       "    .dataframe tbody tr th {\n",
       "        vertical-align: top;\n",
       "    }\n",
       "\n",
       "    .dataframe thead th {\n",
       "        text-align: right;\n",
       "    }\n",
       "</style>\n",
       "<table border=\"1\" class=\"dataframe\">\n",
       "  <thead>\n",
       "    <tr style=\"text-align: right;\">\n",
       "      <th></th>\n",
       "      <th>순위</th>\n",
       "      <th>카테고리</th>\n",
       "      <th>채널</th>\n",
       "      <th>구독자수</th>\n",
       "      <th>조회수</th>\n",
       "      <th>비디오수</th>\n",
       "    </tr>\n",
       "  </thead>\n",
       "  <tbody>\n",
       "    <tr>\n",
       "      <th>95</th>\n",
       "      <td>96</td>\n",
       "      <td>키즈/어린이</td>\n",
       "      <td>뽀로로(Pororo)</td>\n",
       "      <td>485만</td>\n",
       "      <td>68억3934만</td>\n",
       "      <td>4,151개</td>\n",
       "    </tr>\n",
       "    <tr>\n",
       "      <th>96</th>\n",
       "      <td>97</td>\n",
       "      <td>애완/반려동물</td>\n",
       "      <td>SBS TV동물농장x애니멀봐</td>\n",
       "      <td>483만</td>\n",
       "      <td>46억2878만</td>\n",
       "      <td>4,147개</td>\n",
       "    </tr>\n",
       "    <tr>\n",
       "      <th>97</th>\n",
       "      <td>98</td>\n",
       "      <td>키즈/어린이</td>\n",
       "      <td>CoCosToy 꼬꼬스토이</td>\n",
       "      <td>477만</td>\n",
       "      <td>29억7937만</td>\n",
       "      <td>684개</td>\n",
       "    </tr>\n",
       "    <tr>\n",
       "      <th>98</th>\n",
       "      <td>99</td>\n",
       "      <td>음식/요리/레시피</td>\n",
       "      <td>Cooking tree 쿠킹트리</td>\n",
       "      <td>476만</td>\n",
       "      <td>4억8734만</td>\n",
       "      <td>1,453개</td>\n",
       "    </tr>\n",
       "    <tr>\n",
       "      <th>99</th>\n",
       "      <td>100</td>\n",
       "      <td>TV/방송</td>\n",
       "      <td>JTBC Drama</td>\n",
       "      <td>473만</td>\n",
       "      <td>52억2976만</td>\n",
       "      <td>27,723개</td>\n",
       "    </tr>\n",
       "  </tbody>\n",
       "</table>\n",
       "</div>"
      ],
      "text/plain": [
       "     순위       카테고리                 채널  구독자수       조회수     비디오수\n",
       "95   96     키즈/어린이        뽀로로(Pororo)  485만  68억3934만   4,151개\n",
       "96   97    애완/반려동물    SBS TV동물농장x애니멀봐  483만  46억2878만   4,147개\n",
       "97   98     키즈/어린이     CoCosToy 꼬꼬스토이  477만  29억7937만     684개\n",
       "98   99  음식/요리/레시피  Cooking tree 쿠킹트리  476만   4억8734만   1,453개\n",
       "99  100      TV/방송         JTBC Drama  473만  52억2976만  27,723개"
      ]
     },
     "execution_count": 13,
     "metadata": {},
     "output_type": "execute_result"
    }
   ],
   "source": [
    "df = pd.DataFrame(lines, columns=['순위', '카테고리', '채널' , '구독자수', '조회수', '비디오수'])\n",
    "df.tail()"
   ]
  },
  {
   "cell_type": "code",
   "execution_count": 14,
   "id": "31d5e91b",
   "metadata": {},
   "outputs": [],
   "source": [
    "# 숫자로 바꿔주는 함수\n",
    "def convert_unit(s):\n",
    "    s = s.replace(\"억\", \"\").replace(\"개\", \"\").replace(',', '').replace('만', \"0000\")\n",
    "    return f'{int(s):,d}'"
   ]
  },
  {
   "cell_type": "code",
   "execution_count": 15,
   "id": "f9469d7f",
   "metadata": {},
   "outputs": [
    {
     "data": {
      "text/plain": [
       "'30,340,160,000'"
      ]
     },
     "execution_count": 15,
     "metadata": {},
     "output_type": "execute_result"
    }
   ],
   "source": [
    "convert_unit('303억4016만')"
   ]
  },
  {
   "cell_type": "code",
   "execution_count": 16,
   "id": "8bcdc3b4",
   "metadata": {},
   "outputs": [
    {
     "data": {
      "text/html": [
       "<div>\n",
       "<style scoped>\n",
       "    .dataframe tbody tr th:only-of-type {\n",
       "        vertical-align: middle;\n",
       "    }\n",
       "\n",
       "    .dataframe tbody tr th {\n",
       "        vertical-align: top;\n",
       "    }\n",
       "\n",
       "    .dataframe thead th {\n",
       "        text-align: right;\n",
       "    }\n",
       "</style>\n",
       "<table border=\"1\" class=\"dataframe\">\n",
       "  <thead>\n",
       "    <tr style=\"text-align: right;\">\n",
       "      <th></th>\n",
       "      <th>순위</th>\n",
       "      <th>카테고리</th>\n",
       "      <th>채널</th>\n",
       "      <th>구독자수</th>\n",
       "      <th>조회수</th>\n",
       "      <th>비디오수</th>\n",
       "    </tr>\n",
       "  </thead>\n",
       "  <tbody>\n",
       "    <tr>\n",
       "      <th>0</th>\n",
       "      <td>1</td>\n",
       "      <td>음악/댄스/가수</td>\n",
       "      <td>BLACKPINK</td>\n",
       "      <td>86,800,000</td>\n",
       "      <td>30,340,160,000</td>\n",
       "      <td>505</td>\n",
       "    </tr>\n",
       "    <tr>\n",
       "      <th>1</th>\n",
       "      <td>2</td>\n",
       "      <td>음악/댄스/가수</td>\n",
       "      <td>BANGTANTV</td>\n",
       "      <td>74,300,000</td>\n",
       "      <td>20,078,950,000</td>\n",
       "      <td>2,174</td>\n",
       "    </tr>\n",
       "    <tr>\n",
       "      <th>2</th>\n",
       "      <td>3</td>\n",
       "      <td>음악/댄스/가수</td>\n",
       "      <td>HYBE LABELS</td>\n",
       "      <td>70,100,000</td>\n",
       "      <td>27,213,060,000</td>\n",
       "      <td>1,142</td>\n",
       "    </tr>\n",
       "    <tr>\n",
       "      <th>3</th>\n",
       "      <td>4</td>\n",
       "      <td>음악/댄스/가수</td>\n",
       "      <td>SMTOWN</td>\n",
       "      <td>31,600,000</td>\n",
       "      <td>26,746,800,000</td>\n",
       "      <td>4,108</td>\n",
       "    </tr>\n",
       "    <tr>\n",
       "      <th>4</th>\n",
       "      <td>5</td>\n",
       "      <td>음악/댄스/가수</td>\n",
       "      <td>JYP Entertainment</td>\n",
       "      <td>26,700,000</td>\n",
       "      <td>19,236,390,000</td>\n",
       "      <td>1,662</td>\n",
       "    </tr>\n",
       "  </tbody>\n",
       "</table>\n",
       "</div>"
      ],
      "text/plain": [
       "  순위      카테고리                 채널        구독자수             조회수   비디오수\n",
       "0  1  음악/댄스/가수          BLACKPINK  86,800,000  30,340,160,000    505\n",
       "1  2  음악/댄스/가수          BANGTANTV  74,300,000  20,078,950,000  2,174\n",
       "2  3  음악/댄스/가수        HYBE LABELS  70,100,000  27,213,060,000  1,142\n",
       "3  4  음악/댄스/가수             SMTOWN  31,600,000  26,746,800,000  4,108\n",
       "4  5  음악/댄스/가수  JYP Entertainment  26,700,000  19,236,390,000  1,662"
      ]
     },
     "execution_count": 16,
     "metadata": {},
     "output_type": "execute_result"
    }
   ],
   "source": [
    "for column in df.columns[3:]:\n",
    "    df[column] = df[column].apply(convert_unit)\n",
    "df.head()"
   ]
  },
  {
   "cell_type": "code",
   "execution_count": 17,
   "id": "1134cb04",
   "metadata": {},
   "outputs": [],
   "source": [
    "from tqdm.notebook import tqdm"
   ]
  },
  {
   "cell_type": "code",
   "execution_count": 19,
   "id": "e82e2c4c",
   "metadata": {},
   "outputs": [
    {
     "data": {
      "application/vnd.jupyter.widget-view+json": {
       "model_id": "a693b476644e4d9f864e72f5d8fd063d",
       "version_major": 2,
       "version_minor": 0
      },
      "text/plain": [
       "  0%|          | 0/10 [00:00<?, ?it/s]"
      ]
     },
     "metadata": {},
     "output_type": "display_data"
    }
   ],
   "source": [
    "lines = []\n",
    "for page in tqdm(range(1, 11)):\n",
    "    url = 'https://youtube-rank.com/board/bbs/board.php?bo_table=youtube&page=' + str(page)\n",
    "    driver.get(url)\n",
    "    time.sleep(2)\n",
    "    soup = BeautifulSoup(driver.page_source, 'html.parser')\n",
    "    trs = soup.select('tr.aos-init')\n",
    "    \n",
    "    for tr in trs:\n",
    "        rank = tr.select_one('.rank').get_text().strip()\n",
    "        category = tr.select_one('.category').get_text().strip()[1:-1]\n",
    "        channel = tr.select_one('.subject a').get_text().strip()\n",
    "        subscriber = tr.select_one('.subscriber_cnt').get_text().strip()\n",
    "        view = tr.select_one('.view_cnt').get_text().strip()\n",
    "        video = tr.select_one('.video_cnt').get_text().strip()\n",
    "        lines.append([rank, category, channel, subscriber, view, video])"
   ]
  },
  {
   "cell_type": "code",
   "execution_count": 20,
   "id": "9eb7359e",
   "metadata": {},
   "outputs": [],
   "source": [
    "df = pd.DataFrame(lines, columns=['순위', '카테고리', '채널' , '구독자수', '조회수', '비디오수'])\n",
    "for column in df.columns[3:]:\n",
    "    df[column] = df[column].apply(convert_unit)"
   ]
  },
  {
   "cell_type": "code",
   "execution_count": 21,
   "id": "7a0eefa4",
   "metadata": {},
   "outputs": [
    {
     "data": {
      "text/html": [
       "<div>\n",
       "<style scoped>\n",
       "    .dataframe tbody tr th:only-of-type {\n",
       "        vertical-align: middle;\n",
       "    }\n",
       "\n",
       "    .dataframe tbody tr th {\n",
       "        vertical-align: top;\n",
       "    }\n",
       "\n",
       "    .dataframe thead th {\n",
       "        text-align: right;\n",
       "    }\n",
       "</style>\n",
       "<table border=\"1\" class=\"dataframe\">\n",
       "  <thead>\n",
       "    <tr style=\"text-align: right;\">\n",
       "      <th></th>\n",
       "      <th>순위</th>\n",
       "      <th>카테고리</th>\n",
       "      <th>채널</th>\n",
       "      <th>구독자수</th>\n",
       "      <th>조회수</th>\n",
       "      <th>비디오수</th>\n",
       "    </tr>\n",
       "  </thead>\n",
       "  <tbody>\n",
       "    <tr>\n",
       "      <th>0</th>\n",
       "      <td>1</td>\n",
       "      <td>음악/댄스/가수</td>\n",
       "      <td>BLACKPINK</td>\n",
       "      <td>86,800,000</td>\n",
       "      <td>30,340,160,000</td>\n",
       "      <td>505</td>\n",
       "    </tr>\n",
       "    <tr>\n",
       "      <th>1</th>\n",
       "      <td>2</td>\n",
       "      <td>음악/댄스/가수</td>\n",
       "      <td>BANGTANTV</td>\n",
       "      <td>74,300,000</td>\n",
       "      <td>20,078,950,000</td>\n",
       "      <td>2,174</td>\n",
       "    </tr>\n",
       "    <tr>\n",
       "      <th>2</th>\n",
       "      <td>3</td>\n",
       "      <td>음악/댄스/가수</td>\n",
       "      <td>HYBE LABELS</td>\n",
       "      <td>70,100,000</td>\n",
       "      <td>27,213,060,000</td>\n",
       "      <td>1,142</td>\n",
       "    </tr>\n",
       "    <tr>\n",
       "      <th>3</th>\n",
       "      <td>4</td>\n",
       "      <td>음악/댄스/가수</td>\n",
       "      <td>SMTOWN</td>\n",
       "      <td>31,600,000</td>\n",
       "      <td>26,746,800,000</td>\n",
       "      <td>4,108</td>\n",
       "    </tr>\n",
       "    <tr>\n",
       "      <th>4</th>\n",
       "      <td>5</td>\n",
       "      <td>음악/댄스/가수</td>\n",
       "      <td>JYP Entertainment</td>\n",
       "      <td>26,700,000</td>\n",
       "      <td>19,236,390,000</td>\n",
       "      <td>1,662</td>\n",
       "    </tr>\n",
       "  </tbody>\n",
       "</table>\n",
       "</div>"
      ],
      "text/plain": [
       "  순위      카테고리                 채널        구독자수             조회수   비디오수\n",
       "0  1  음악/댄스/가수          BLACKPINK  86,800,000  30,340,160,000    505\n",
       "1  2  음악/댄스/가수          BANGTANTV  74,300,000  20,078,950,000  2,174\n",
       "2  3  음악/댄스/가수        HYBE LABELS  70,100,000  27,213,060,000  1,142\n",
       "3  4  음악/댄스/가수             SMTOWN  31,600,000  26,746,800,000  4,108\n",
       "4  5  음악/댄스/가수  JYP Entertainment  26,700,000  19,236,390,000  1,662"
      ]
     },
     "execution_count": 21,
     "metadata": {},
     "output_type": "execute_result"
    }
   ],
   "source": [
    "df.head()"
   ]
  },
  {
   "cell_type": "code",
   "execution_count": 22,
   "id": "1b815179",
   "metadata": {},
   "outputs": [
    {
     "data": {
      "text/html": [
       "<div>\n",
       "<style scoped>\n",
       "    .dataframe tbody tr th:only-of-type {\n",
       "        vertical-align: middle;\n",
       "    }\n",
       "\n",
       "    .dataframe tbody tr th {\n",
       "        vertical-align: top;\n",
       "    }\n",
       "\n",
       "    .dataframe thead th {\n",
       "        text-align: right;\n",
       "    }\n",
       "</style>\n",
       "<table border=\"1\" class=\"dataframe\">\n",
       "  <thead>\n",
       "    <tr style=\"text-align: right;\">\n",
       "      <th></th>\n",
       "      <th>순위</th>\n",
       "      <th>카테고리</th>\n",
       "      <th>채널</th>\n",
       "      <th>구독자수</th>\n",
       "      <th>조회수</th>\n",
       "      <th>비디오수</th>\n",
       "    </tr>\n",
       "  </thead>\n",
       "  <tbody>\n",
       "    <tr>\n",
       "      <th>995</th>\n",
       "      <td>991</td>\n",
       "      <td>BJ/인물/연예인</td>\n",
       "      <td>bobaepapa - 보배아빠</td>\n",
       "      <td>730,000</td>\n",
       "      <td>348,400,000</td>\n",
       "      <td>393</td>\n",
       "    </tr>\n",
       "    <tr>\n",
       "      <th>996</th>\n",
       "      <td>996</td>\n",
       "      <td>음악/댄스/가수</td>\n",
       "      <td>Crush</td>\n",
       "      <td>720,000</td>\n",
       "      <td>393,180,000</td>\n",
       "      <td>131</td>\n",
       "    </tr>\n",
       "    <tr>\n",
       "      <th>997</th>\n",
       "      <td>1000</td>\n",
       "      <td>미분류</td>\n",
       "      <td>백크 Baekk</td>\n",
       "      <td>720,000</td>\n",
       "      <td>455,250,000</td>\n",
       "      <td>1,102</td>\n",
       "    </tr>\n",
       "    <tr>\n",
       "      <th>998</th>\n",
       "      <td>999</td>\n",
       "      <td>뉴스/정치/사회</td>\n",
       "      <td>국방TV</td>\n",
       "      <td>720,000</td>\n",
       "      <td>757,890,000</td>\n",
       "      <td>12,681</td>\n",
       "    </tr>\n",
       "    <tr>\n",
       "      <th>999</th>\n",
       "      <td>998</td>\n",
       "      <td>TV/방송</td>\n",
       "      <td>KBS COMEDY: 크큭티비</td>\n",
       "      <td>720,000</td>\n",
       "      <td>1,026,260,000</td>\n",
       "      <td>7,921</td>\n",
       "    </tr>\n",
       "  </tbody>\n",
       "</table>\n",
       "</div>"
      ],
      "text/plain": [
       "       순위       카테고리                채널     구독자수            조회수    비디오수\n",
       "995   991  BJ/인물/연예인  bobaepapa - 보배아빠  730,000    348,400,000     393\n",
       "996   996   음악/댄스/가수             Crush  720,000    393,180,000     131\n",
       "997  1000        미분류          백크 Baekk  720,000    455,250,000   1,102\n",
       "998   999   뉴스/정치/사회              국방TV  720,000    757,890,000  12,681\n",
       "999   998      TV/방송  KBS COMEDY: 크큭티비  720,000  1,026,260,000   7,921"
      ]
     },
     "execution_count": 22,
     "metadata": {},
     "output_type": "execute_result"
    }
   ],
   "source": [
    "df.tail()"
   ]
  },
  {
   "cell_type": "code",
   "execution_count": 23,
   "id": "d9857c6d",
   "metadata": {},
   "outputs": [],
   "source": [
    "df.to_csv('youtube랭킹.csv', index=False)"
   ]
  },
  {
   "cell_type": "code",
   "execution_count": null,
   "id": "df60784d",
   "metadata": {},
   "outputs": [],
   "source": []
  }
 ],
 "metadata": {
  "kernelspec": {
   "display_name": "Python 3 (ipykernel)",
   "language": "python",
   "name": "python3"
  },
  "language_info": {
   "codemirror_mode": {
    "name": "ipython",
    "version": 3
   },
   "file_extension": ".py",
   "mimetype": "text/x-python",
   "name": "python",
   "nbconvert_exporter": "python",
   "pygments_lexer": "ipython3",
   "version": "3.8.7"
  }
 },
 "nbformat": 4,
 "nbformat_minor": 5
}
