{
  "nbformat": 4,
  "nbformat_minor": 0,
  "metadata": {
    "colab": {
      "provenance": []
    },
    "kernelspec": {
      "name": "python3",
      "display_name": "Python 3"
    },
    "language_info": {
      "name": "python"
    }
  },
  "cells": [
    {
      "cell_type": "code",
      "source": [
        "#한글 폰트 설치\n",
        "!apt-get install -y fonts-nanum > /dev/null\n",
        "!fc-cache -fv > /dev/null\n",
        "!rm -rf ~/.cache/matplotlib > /dev/null\n",
        "#런타임 다시시작"
      ],
      "metadata": {
        "id": "HaPXgEwsk8wx"
      },
      "execution_count": 1,
      "outputs": []
    },
    {
      "cell_type": "code",
      "source": [
        "import numpy as np\n",
        "import matplotlib as mpl\n",
        "import matplotlib.pyplot as plt\n",
        "mpl.rcParams['axes.unicode_minus'] = False\n",
        "mpl.rcParams['font.family'] = 'NanumBarunGothic'"
      ],
      "metadata": {
        "id": "S2BdaI7jlAJU"
      },
      "execution_count": 1,
      "outputs": []
    },
    {
      "cell_type": "code",
      "source": [
        "#konlpy 설치\n",
        "!pip install konlpy > /dev/null"
      ],
      "metadata": {
        "id": "AtTq5SNblOvp"
      },
      "execution_count": 3,
      "outputs": []
    },
    {
      "cell_type": "code",
      "source": [
        "# 기존 chromium 삭제\n",
        "!sudo apt remove chromium-browser chromium-browser-l10n chromium-codecs-ffmpeg-extra"
      ],
      "metadata": {
        "id": "i0I8Nu3qlSe5"
      },
      "execution_count": null,
      "outputs": []
    },
    {
      "cell_type": "code",
      "source": [
        "# 이 부분은 처음 한번만 실행하면 됌.\n",
        "# 코드 수정 - \"The reason is that the last Ubuntu update update supports chromium driver just via snap.\"\n",
        "# 최근 우분투 업데이트에서 크롬 드라이버 설치를 snap을 이용해서만 하도록 바뀜\n",
        "# 고로 snap 없이 설치하는 아래 우회 코드로 변경\n",
        "# 출처 : https://colab.research.google.com/drive/1cbEvuZOhkouYLda3RqiwtbM-o9hxGLyC\n",
        "# 출처2 : https://stackoverflow.com/questions/75155063/selenium-use-chrome-on-colab-got-unexpectedly-exited\n",
        "\n",
        "%%shell\n",
        "# Ubuntu no longer distributes chromium-browser outside of snap\n",
        "#\n",
        "# Proposed solution: https://askubuntu.com/questions/1204571/how-to-install-chromium-without-snap\n",
        "\n",
        "# Add debian buster\n",
        "cat > /etc/apt/sources.list.d/debian.list <<'EOF'\n",
        "deb [arch=amd64 signed-by=/usr/share/keyrings/debian-buster.gpg] http://deb.debian.org/debian buster main\n",
        "deb [arch=amd64 signed-by=/usr/share/keyrings/debian-buster-updates.gpg] http://deb.debian.org/debian buster-updates main\n",
        "deb [arch=amd64 signed-by=/usr/share/keyrings/debian-security-buster.gpg] http://deb.debian.org/debian-security buster/updates main\n",
        "EOF\n",
        "\n",
        "# Add keys\n",
        "apt-key adv --keyserver keyserver.ubuntu.com --recv-keys DCC9EFBF77E11517\n",
        "apt-key adv --keyserver keyserver.ubuntu.com --recv-keys 648ACFD622F3D138\n",
        "apt-key adv --keyserver keyserver.ubuntu.com --recv-keys 112695A0E562B32A\n",
        "\n",
        "apt-key export 77E11517 | gpg --dearmour -o /usr/share/keyrings/debian-buster.gpg\n",
        "apt-key export 22F3D138 | gpg --dearmour -o /usr/share/keyrings/debian-buster-updates.gpg\n",
        "apt-key export E562B32A | gpg --dearmour -o /usr/share/keyrings/debian-security-buster.gpg\n",
        "\n",
        "# Prefer debian repo for chromium* packages only\n",
        "# Note the double-blank lines between entries\n",
        "cat > /etc/apt/preferences.d/chromium.pref << 'EOF'\n",
        "Package: *\n",
        "Pin: release a=eoan\n",
        "Pin-Priority: 500\n",
        "\n",
        "\n",
        "Package: *\n",
        "Pin: origin \"deb.debian.org\"\n",
        "Pin-Priority: 300\n",
        "\n",
        "\n",
        "Package: chromium*\n",
        "Pin: origin \"deb.debian.org\"\n",
        "Pin-Priority: 700\n",
        "EOF\n",
        "\n",
        "# Install chromium and chromium-driver\n",
        "apt-get update\n",
        "apt-get install chromium chromium-driver\n",
        "\n",
        "\n",
        "# Install selenium\n",
        "pip install selenium"
      ],
      "metadata": {
        "id": "1Kn4AKcClVgZ"
      },
      "execution_count": null,
      "outputs": []
    },
    {
      "cell_type": "code",
      "source": [
        "!sudo apt update\n",
        "!sudo apt install chromium"
      ],
      "metadata": {
        "id": "g72k-8-KliCg"
      },
      "execution_count": null,
      "outputs": []
    },
    {
      "cell_type": "code",
      "source": [
        "import requests\n",
        "from bs4 import BeautifulSoup\n",
        "import pandas as pd\n",
        "import time\n",
        "from selenium import webdriver\n",
        "from selenium.webdriver.common.keys import Keys\n",
        "from selenium.webdriver.common.by import By\n",
        "from tqdm.notebook import tqdm\n",
        "from urllib.parse import quote"
      ],
      "metadata": {
        "id": "nTHs5UMelnEA"
      },
      "execution_count": 35,
      "outputs": []
    },
    {
      "cell_type": "code",
      "source": [
        "options = webdriver.ChromeOptions()\n",
        "options.add_argument('--headless')   # 화면없이 실행\n",
        "options.add_argument('--no-sandbox')\n",
        "options.add_argument(\"--single-process\")\n",
        "options.add_argument(\"--disable-dev-shm-usage\")\n",
        "driver = webdriver.Chrome('chromedriver', options=options)"
      ],
      "metadata": {
        "id": "PXnl-ImNlqco"
      },
      "execution_count": 36,
      "outputs": []
    },
    {
      "cell_type": "code",
      "source": [
        "base_url = 'https://kin.naver.com/search/list.naver?query='\n",
        "url = base_url + quote('여친선물')\n",
        "driver.get(url)"
      ],
      "metadata": {
        "id": "6lNyrwxKzj_t"
      },
      "execution_count": 37,
      "outputs": []
    },
    {
      "cell_type": "code",
      "source": [
        "answer_list = []\n",
        "for page in range(1,11):\n",
        "  print('page', page)\n",
        "  url = f\"{base_url}{quote('여친선물')}&page={page}\"\n",
        "  driver.get(url)    \n",
        "  time.sleep(3)\n",
        "\n",
        "  html = driver.page_source\n",
        "  soup = BeautifulSoup(html, 'html.parser')\n",
        "  lis = soup.select('ul.basic1 > li')\n",
        "\n",
        "  for li in lis:\n",
        "    sub_url = li.select_one('a._searchListTitleAnchor')['href']\n",
        "    driver.get(sub_url)\n",
        "    time.sleep(3)\n",
        "\n",
        "    count = int(driver.find_element(By.CSS_SELECTOR, '._answerCount.num').text)\n",
        "    answer_page = (count -1) // 5\n",
        "    print(count, answer_page)\n",
        "    for i in range(answer_page):\n",
        "      driver.find_element(By.ID, 'nextPageButton').click()\n",
        "      time.sleep(2)\n",
        "    \n",
        "    html = driver.page_source\n",
        "    soup = BeautifulSoup(html, 'html.parser')\n",
        "    divs = soup.select('div.answer-content__item._contentWrap._answer')\n",
        "    print(len(divs))\n",
        "    for div in divs:\n",
        "      ps = div.select('p.se-text-paragraph')\n",
        "      for p in ps:\n",
        "        text = p.get_text()\n",
        "        if text == \" \" or text == '\\u200b':\n",
        "          continue\n",
        "        answer_list.append(text)\n",
        "    driver.back()\n",
        "    time.sleep(3)"
      ],
      "metadata": {
        "colab": {
          "base_uri": "https://localhost:8080/"
        },
        "id": "oTQic88uzj8q",
        "outputId": "0aa3e18e-091d-4f2e-c0ec-1ceca5fdb9f9"
      },
      "execution_count": 40,
      "outputs": [
        {
          "output_type": "stream",
          "name": "stdout",
          "text": [
            "page 1\n",
            "8 1\n",
            "8\n",
            "8 1\n",
            "8\n",
            "4 0\n",
            "4\n",
            "10 1\n",
            "10\n",
            "12 2\n",
            "12\n",
            "1 0\n",
            "1\n",
            "5 0\n",
            "5\n",
            "6 1\n",
            "6\n",
            "3 0\n",
            "3\n",
            "1 0\n",
            "1\n",
            "page 2\n",
            "12 2\n",
            "12\n",
            "11 2\n",
            "11\n",
            "5 0\n",
            "5\n",
            "13 2\n",
            "13\n",
            "12 2\n",
            "12\n",
            "6 1\n",
            "6\n",
            "1 0\n",
            "1\n",
            "4 0\n",
            "4\n",
            "14 2\n",
            "14\n",
            "1 0\n",
            "1\n",
            "page 3\n",
            "14 2\n",
            "14\n",
            "5 0\n",
            "5\n",
            "2 0\n",
            "2\n",
            "1 0\n",
            "1\n",
            "8 1\n",
            "8\n",
            "9 1\n",
            "9\n",
            "2 0\n",
            "2\n",
            "5 0\n",
            "5\n",
            "3 0\n",
            "3\n",
            "1 0\n",
            "1\n",
            "page 4\n",
            "3 0\n",
            "3\n",
            "1 0\n",
            "1\n",
            "5 0\n",
            "5\n",
            "4 0\n",
            "4\n",
            "4 0\n",
            "4\n",
            "9 1\n",
            "9\n",
            "3 0\n",
            "3\n",
            "18 3\n",
            "18\n",
            "1 0\n",
            "1\n",
            "2 0\n",
            "2\n",
            "page 5\n",
            "2 0\n",
            "2\n",
            "4 0\n",
            "4\n",
            "1 0\n",
            "1\n",
            "5 0\n",
            "5\n",
            "8 1\n",
            "8\n",
            "9 1\n",
            "9\n",
            "14 2\n",
            "14\n",
            "13 2\n",
            "13\n",
            "13 2\n",
            "13\n",
            "15 2\n",
            "15\n",
            "page 6\n",
            "20 3\n",
            "20\n",
            "12 2\n",
            "12\n",
            "3 0\n",
            "3\n",
            "2 0\n",
            "2\n",
            "1 0\n",
            "1\n",
            "7 1\n",
            "7\n",
            "6 1\n",
            "6\n",
            "13 2\n",
            "13\n",
            "11 2\n",
            "11\n",
            "5 0\n",
            "5\n",
            "page 7\n",
            "13 2\n",
            "13\n",
            "11 2\n",
            "11\n",
            "8 1\n",
            "8\n",
            "12 2\n",
            "12\n",
            "2 0\n",
            "2\n",
            "10 1\n",
            "10\n",
            "1 0\n",
            "1\n",
            "11 2\n",
            "11\n",
            "2 0\n",
            "2\n",
            "5 0\n",
            "5\n",
            "page 8\n",
            "6 1\n",
            "6\n",
            "5 0\n",
            "5\n",
            "7 1\n",
            "7\n",
            "3 0\n",
            "3\n",
            "6 1\n",
            "6\n",
            "8 1\n",
            "8\n",
            "15 2\n",
            "15\n",
            "11 2\n",
            "11\n",
            "1 0\n",
            "1\n",
            "3 0\n",
            "3\n",
            "page 9\n",
            "2 0\n",
            "2\n",
            "16 3\n",
            "16\n",
            "1 0\n",
            "1\n",
            "16 3\n",
            "16\n",
            "1 0\n",
            "1\n",
            "9 1\n",
            "9\n",
            "1 0\n",
            "1\n",
            "5 0\n",
            "5\n",
            "7 1\n",
            "7\n",
            "2 0\n",
            "2\n",
            "page 10\n",
            "7 1\n",
            "7\n",
            "1 0\n",
            "1\n",
            "1 0\n",
            "1\n",
            "3 0\n",
            "3\n",
            "4 0\n",
            "4\n",
            "1 0\n",
            "1\n",
            "8 1\n",
            "8\n",
            "21 4\n",
            "21\n",
            "26 5\n",
            "26\n",
            "9 1\n",
            "9\n"
          ]
        }
      ]
    },
    {
      "cell_type": "code",
      "source": [
        "len(answer_list)"
      ],
      "metadata": {
        "colab": {
          "base_uri": "https://localhost:8080/"
        },
        "id": "vDDhmDUqzj57",
        "outputId": "cc34c3ca-f5d5-4498-e123-6e8b3acab5fa"
      },
      "execution_count": 42,
      "outputs": [
        {
          "output_type": "execute_result",
          "data": {
            "text/plain": [
              "3572"
            ]
          },
          "metadata": {},
          "execution_count": 42
        }
      ]
    },
    {
      "cell_type": "code",
      "source": [
        "with open('gf_gift.txt', 'w', encoding ='utf-8') as f:\n",
        "  for answer in answer_list:\n",
        "    f.write(answer + '\\n')"
      ],
      "metadata": {
        "id": "60e_9E-bzj3K"
      },
      "execution_count": 41,
      "outputs": []
    },
    {
      "cell_type": "code",
      "source": [],
      "metadata": {
        "id": "hvEt6jKvzj0q"
      },
      "execution_count": null,
      "outputs": []
    },
    {
      "cell_type": "code",
      "source": [],
      "metadata": {
        "id": "41lYYGFuzjxq"
      },
      "execution_count": null,
      "outputs": []
    },
    {
      "cell_type": "code",
      "source": [],
      "metadata": {
        "id": "DJIEPkQ5zju6"
      },
      "execution_count": null,
      "outputs": []
    },
    {
      "cell_type": "code",
      "source": [],
      "metadata": {
        "id": "fbDw_8sgzjsC"
      },
      "execution_count": null,
      "outputs": []
    },
    {
      "cell_type": "code",
      "source": [],
      "metadata": {
        "id": "BvUPKMvmzjpK"
      },
      "execution_count": null,
      "outputs": []
    },
    {
      "cell_type": "code",
      "source": [],
      "metadata": {
        "id": "Uz_VGSLizjmS"
      },
      "execution_count": null,
      "outputs": []
    },
    {
      "cell_type": "code",
      "source": [],
      "metadata": {
        "id": "yAShB8J4zjja"
      },
      "execution_count": null,
      "outputs": []
    },
    {
      "cell_type": "code",
      "source": [],
      "metadata": {
        "id": "hr2EQfgizjgt"
      },
      "execution_count": null,
      "outputs": []
    },
    {
      "cell_type": "code",
      "source": [],
      "metadata": {
        "id": "GJ4W_S-Azjdz"
      },
      "execution_count": null,
      "outputs": []
    },
    {
      "cell_type": "code",
      "source": [],
      "metadata": {
        "id": "oNNqMwo4zja7"
      },
      "execution_count": null,
      "outputs": []
    },
    {
      "cell_type": "code",
      "source": [],
      "metadata": {
        "id": "9lYh3HHCzjYL"
      },
      "execution_count": null,
      "outputs": []
    },
    {
      "cell_type": "code",
      "source": [],
      "metadata": {
        "id": "cdGaIHuozjVC"
      },
      "execution_count": null,
      "outputs": []
    },
    {
      "cell_type": "code",
      "source": [],
      "metadata": {
        "id": "DfqggYXNzjSC"
      },
      "execution_count": null,
      "outputs": []
    },
    {
      "cell_type": "code",
      "source": [],
      "metadata": {
        "id": "oNVNSqL6zjOb"
      },
      "execution_count": null,
      "outputs": []
    },
    {
      "cell_type": "markdown",
      "source": [],
      "metadata": {
        "id": "DEjluY8bpyP7"
      }
    },
    {
      "cell_type": "code",
      "source": [
        "from urllib.parse import quote\n",
        "\n",
        "base_url = 'https://search.naver.com/search.naver?where=nexearch&sm=top_hty&fbm=1&ie=utf8&'\n",
        "url = f\"{base_url}query={quote('스마트폰')}\"\n",
        "driver.get(url)\n",
        "time.sleep(1)"
      ],
      "metadata": {
        "id": "OddUKYfdom7m"
      },
      "execution_count": 21,
      "outputs": []
    },
    {
      "cell_type": "code",
      "source": [
        "# 결과 화면에서 VIEW click\n",
        "driver.find_element(By.XPATH, '//*[@id=\"lnb\"]/div[1]/div/ul/li[6]/a').click()\n",
        "time.sleep(3)"
      ],
      "metadata": {
        "id": "xKPqqe90pzgR"
      },
      "execution_count": 22,
      "outputs": []
    },
    {
      "cell_type": "code",
      "source": [
        "# Page Down 화살표를 사용하여 데이터를 충분히 가져오는 과정\n",
        "body = driver.find_element(By.TAG_NAME, 'body')\n",
        "for i in range(30):\n",
        "    body.send_keys(Keys.PAGE_DOWN)\n",
        "    time.sleep(3)"
      ],
      "metadata": {
        "id": "Yc1q1CEzpzdZ"
      },
      "execution_count": 23,
      "outputs": []
    },
    {
      "cell_type": "code",
      "source": [
        "soup = BeautifulSoup(driver.page_source, 'html.parser')\n",
        "driver.close()"
      ],
      "metadata": {
        "id": "cOPE7dWIpzZB"
      },
      "execution_count": 24,
      "outputs": []
    },
    {
      "cell_type": "code",
      "source": [
        "lis = soup.select('li.bx._svp_item')\n",
        "len(lis)"
      ],
      "metadata": {
        "colab": {
          "base_uri": "https://localhost:8080/"
        },
        "id": "IQ3l_qJ6pzVx",
        "outputId": "29fb1f0c-05a1-4407-8e22-0313710eb987"
      },
      "execution_count": 25,
      "outputs": [
        {
          "output_type": "execute_result",
          "data": {
            "text/plain": [
              "104"
            ]
          },
          "metadata": {},
          "execution_count": 25
        }
      ]
    }
  ]
}