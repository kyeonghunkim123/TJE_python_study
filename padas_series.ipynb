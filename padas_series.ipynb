{
 "cells": [
  {
   "cell_type": "code",
   "execution_count": 1,
   "id": "736bb96d",
   "metadata": {},
   "outputs": [],
   "source": [
    "import pandas as pd\n",
    "#panel datas 약자"
   ]
  },
  {
   "cell_type": "code",
   "execution_count": 3,
   "id": "29b9388e",
   "metadata": {},
   "outputs": [],
   "source": [
    "dict_data = {'a':1, 'b':2, 'c':3}\n",
    "sr = pd.Series(dict_data)"
   ]
  },
  {
   "cell_type": "code",
   "execution_count": 4,
   "id": "5c228cb5",
   "metadata": {},
   "outputs": [
    {
     "name": "stdout",
     "output_type": "stream",
     "text": [
      "<class 'dict'>\n",
      "<class 'pandas.core.series.Series'>\n"
     ]
    }
   ],
   "source": [
    "print(type(dict_data))\n",
    "print(type(sr))"
   ]
  },
  {
   "cell_type": "code",
   "execution_count": 5,
   "id": "58287b54",
   "metadata": {},
   "outputs": [
    {
     "name": "stdout",
     "output_type": "stream",
     "text": [
      "a    1\n",
      "b    2\n",
      "c    3\n",
      "dtype: int64\n"
     ]
    }
   ],
   "source": [
    "print(sr)"
   ]
  },
  {
   "cell_type": "code",
   "execution_count": 6,
   "id": "0e8594ac",
   "metadata": {},
   "outputs": [],
   "source": [
    "list_data = ['2018-01-01', 3.14, 'abc', 100, True]\n",
    "sr_lis = pd.Series(list_data)"
   ]
  },
  {
   "cell_type": "code",
   "execution_count": 7,
   "id": "13fa2481",
   "metadata": {},
   "outputs": [
    {
     "name": "stdout",
     "output_type": "stream",
     "text": [
      "0    2018-01-01\n",
      "1          3.14\n",
      "2           abc\n",
      "3           100\n",
      "4          True\n",
      "dtype: object\n"
     ]
    }
   ],
   "source": [
    "print(sr_lis)"
   ]
  },
  {
   "cell_type": "code",
   "execution_count": 8,
   "id": "c30f9a2d",
   "metadata": {},
   "outputs": [],
   "source": [
    "idx = sr_lis.index \n",
    "val = sr_lis.values"
   ]
  },
  {
   "cell_type": "code",
   "execution_count": 9,
   "id": "12b84bfd",
   "metadata": {},
   "outputs": [
    {
     "name": "stdout",
     "output_type": "stream",
     "text": [
      "RangeIndex(start=0, stop=5, step=1)\n"
     ]
    }
   ],
   "source": [
    "print(idx)"
   ]
  },
  {
   "cell_type": "code",
   "execution_count": 13,
   "id": "63e14770",
   "metadata": {},
   "outputs": [
    {
     "name": "stdout",
     "output_type": "stream",
     "text": [
      "['2018-01-01' 3.14 'abc' 100 True]\n"
     ]
    }
   ],
   "source": [
    "print(val)"
   ]
  },
  {
   "cell_type": "code",
   "execution_count": 14,
   "id": "e3f22b93",
   "metadata": {},
   "outputs": [],
   "source": [
    "tup_data = ('영인', '2010-05-01', '여', True)\n",
    "sr_tup = pd.Series(tup_data, index=['이름', '생년월일', '성별', '학생여부'])"
   ]
  },
  {
   "cell_type": "code",
   "execution_count": 15,
   "id": "4cf19dcf",
   "metadata": {},
   "outputs": [
    {
     "name": "stdout",
     "output_type": "stream",
     "text": [
      "이름              영인\n",
      "생년월일    2010-05-01\n",
      "성별               여\n",
      "학생여부          True\n",
      "dtype: object\n"
     ]
    }
   ],
   "source": [
    "print(sr_tup)"
   ]
  },
  {
   "cell_type": "code",
   "execution_count": 16,
   "id": "9dc28d72",
   "metadata": {},
   "outputs": [
    {
     "name": "stdout",
     "output_type": "stream",
     "text": [
      "영인\n",
      "영인\n"
     ]
    }
   ],
   "source": [
    "# 원소를 1개 선택하는 2가지 방식\n",
    "print(sr_tup[0]) # sr의 1번째 원소를 선택(정수형 위치 인덱스를 활용)\n",
    "print(sr_tup['이름']) #'이름'라벨을 가진 원소를 선택(인덱스 이름을 활용)"
   ]
  },
  {
   "cell_type": "code",
   "execution_count": 19,
   "id": "a48488d0",
   "metadata": {},
   "outputs": [
    {
     "name": "stdout",
     "output_type": "stream",
     "text": [
      "생년월일    2010-05-01\n",
      "성별               여\n",
      "dtype: object\n",
      "생년월일    2010-05-01\n",
      "성별               여\n",
      "dtype: object\n"
     ]
    }
   ],
   "source": [
    "#여러개 원소 선택하는 2가지 방식\n",
    "print(sr_tup[[1, 2]])\n",
    "print(sr_tup[['생년월일', '성별']])"
   ]
  },
  {
   "cell_type": "markdown",
   "id": "5a03c768",
   "metadata": {},
   "source": [
    "# 시리즈 생성 실습"
   ]
  },
  {
   "cell_type": "code",
   "execution_count": 20,
   "id": "8f257662",
   "metadata": {},
   "outputs": [],
   "source": [
    "# 9904312, 3448737, 2890451, 2466052\n",
    "# 서울     부산      인천     대구"
   ]
  },
  {
   "cell_type": "code",
   "execution_count": 21,
   "id": "d41f26f4",
   "metadata": {},
   "outputs": [],
   "source": [
    "# 1. 시리즈 만들기\n",
    "# 2. 인덱싱 부산 2가지 방식\n",
    "# 3. 부산과 대구 인덱싱 2가지 방식"
   ]
  },
  {
   "cell_type": "code",
   "execution_count": 22,
   "id": "70611a75",
   "metadata": {
    "collapsed": true
   },
   "outputs": [
    {
     "name": "stdout",
     "output_type": "stream",
     "text": [
      "서울    9904312\n",
      "부산    3448737\n",
      "인천    2890451\n",
      "대구    2466052\n",
      "dtype: int64\n",
      "3448737 3448737\n",
      "부산    3448737\n",
      "대구    2466052\n",
      "dtype: int64 서울    9904312\n",
      "부산    3448737\n",
      "dtype: int64\n"
     ]
    }
   ],
   "source": [
    "sr = pd.Series([9904312, 3448737, 2890451, 2466052], \n",
    "               index=['서울', '부산', '인천', '대구'])\n",
    "print(sr)\n",
    "print(sr[1], sr['부산'])\n",
    "print(sr[[1,3]], sr[['서울', '부산']])"
   ]
  },
  {
   "cell_type": "code",
   "execution_count": 23,
   "id": "98e5e873",
   "metadata": {
    "collapsed": true
   },
   "outputs": [
    {
     "name": "stdout",
     "output_type": "stream",
     "text": [
      "key는서울이고 value는 9904312다\n",
      "key는부산이고 value는 3448737다\n",
      "key는인천이고 value는 2890451다\n",
      "key는대구이고 value는 2466052다\n"
     ]
    }
   ],
   "source": [
    "for key, value in sr.items():\n",
    "    print(f'key는{key}이고 value는 {value}다')"
   ]
  },
  {
   "cell_type": "code",
   "execution_count": 25,
   "id": "8374e344",
   "metadata": {
    "collapsed": true
   },
   "outputs": [
    {
     "data": {
      "text/plain": [
       "서울    9.904312\n",
       "부산    3.448737\n",
       "인천    2.890451\n",
       "대구    2.466052\n",
       "dtype: float64"
      ]
     },
     "execution_count": 25,
     "metadata": {},
     "output_type": "execute_result"
    }
   ],
   "source": [
    "# 시리즈는 넘파이 1차원 배열로 변환된다.\n",
    "sr/1000000"
   ]
  },
  {
   "cell_type": "code",
   "execution_count": 26,
   "id": "a5025dad",
   "metadata": {
    "collapsed": true
   },
   "outputs": [
    {
     "ename": "TypeError",
     "evalue": "unsupported operand type(s) for /: 'dict' and 'int'",
     "output_type": "error",
     "traceback": [
      "\u001b[1;31m---------------------------------------------------------------------------\u001b[0m",
      "\u001b[1;31mTypeError\u001b[0m                                 Traceback (most recent call last)",
      "Cell \u001b[1;32mIn[26], line 2\u001b[0m\n\u001b[0;32m      1\u001b[0m dict_sr \u001b[38;5;241m=\u001b[39m {\u001b[38;5;124m'\u001b[39m\u001b[38;5;124m서울\u001b[39m\u001b[38;5;124m'\u001b[39m:\u001b[38;5;241m999999\u001b[39m, \u001b[38;5;124m'\u001b[39m\u001b[38;5;124m부산\u001b[39m\u001b[38;5;124m'\u001b[39m:\u001b[38;5;241m333333\u001b[39m}\n\u001b[1;32m----> 2\u001b[0m \u001b[43mdict_sr\u001b[49m\u001b[38;5;241;43m/\u001b[39;49m\u001b[38;5;241;43m1000\u001b[39;49m\n",
      "\u001b[1;31mTypeError\u001b[0m: unsupported operand type(s) for /: 'dict' and 'int'"
     ]
    }
   ],
   "source": [
    "# 딕셔너리는 아래와 같은 연산이 안됨\n",
    "dict_sr = {'서울':999999, '부산':333333}\n",
    "dict_sr/1000"
   ]
  },
  {
   "cell_type": "code",
   "execution_count": 33,
   "id": "a01083cb",
   "metadata": {},
   "outputs": [
    {
     "name": "stdout",
     "output_type": "stream",
     "text": [
      "대구         NaN\n",
      "대전         NaN\n",
      "부산     55546.0\n",
      "서울    272830.0\n",
      "인천    258416.0\n",
      "dtype: float64\n"
     ]
    }
   ],
   "source": [
    "sr2 = pd.Series({'서울':9631482, '부산':3393191, '인천':2632035,\n",
    "                '대전':1490158})\n",
    "sr = pd.Series([9904312, 3448737, 2890451, 2466052], \n",
    "               index=['서울', '부산', '인천', '대구'])\n",
    "#인덱스 값이 다른 데이터는 연산이 되지만 잘안됨\n",
    "# 연산이 안되는것의 결과는 NaN(Not a Number, 결측치)\n",
    "# np.nan 데이터 타입은 실수 float\n",
    "ds = sr - sr2\n",
    "print(ds)"
   ]
  },
  {
   "cell_type": "code",
   "execution_count": 29,
   "id": "769bc62b",
   "metadata": {},
   "outputs": [
    {
     "data": {
      "text/plain": [
       "(Index(['서울', '부산', '인천', '대구'], dtype='object'),\n",
       " array([9904312, 3448737, 2890451, 2466052], dtype=int64))"
      ]
     },
     "execution_count": 29,
     "metadata": {},
     "output_type": "execute_result"
    }
   ],
   "source": [
    "sr.index, sr.values"
   ]
  },
  {
   "cell_type": "code",
   "execution_count": 30,
   "id": "512f28fc",
   "metadata": {},
   "outputs": [
    {
     "data": {
      "text/plain": [
       "4"
      ]
     },
     "execution_count": 30,
     "metadata": {},
     "output_type": "execute_result"
    }
   ],
   "source": [
    "# 엘러먼트의 개수를 세는 method\n",
    "sr.count()"
   ]
  },
  {
   "cell_type": "code",
   "execution_count": 31,
   "id": "373784b5",
   "metadata": {},
   "outputs": [
    {
     "data": {
      "text/plain": [
       "4"
      ]
     },
     "execution_count": 31,
     "metadata": {},
     "output_type": "execute_result"
    }
   ],
   "source": [
    "sr2.count()"
   ]
  },
  {
   "cell_type": "code",
   "execution_count": 34,
   "id": "d8b5f68f",
   "metadata": {},
   "outputs": [
    {
     "data": {
      "text/plain": [
       "3"
      ]
     },
     "execution_count": 34,
     "metadata": {},
     "output_type": "execute_result"
    }
   ],
   "source": [
    "ds.count() #nan은 갯수로 치지 않는다"
   ]
  },
  {
   "cell_type": "code",
   "execution_count": 35,
   "id": "2547a70f",
   "metadata": {},
   "outputs": [
    {
     "data": {
      "text/plain": [
       "9904312    1\n",
       "3448737    1\n",
       "2890451    1\n",
       "2466052    1\n",
       "dtype: int64"
      ]
     },
     "execution_count": 35,
     "metadata": {},
     "output_type": "execute_result"
    }
   ],
   "source": [
    "# 카테고리의 값 세는 method\n",
    "sr.value_counts()"
   ]
  },
  {
   "cell_type": "code",
   "execution_count": 36,
   "id": "a803c64e",
   "metadata": {
    "collapsed": true
   },
   "outputs": [
    {
     "name": "stdout",
     "output_type": "stream",
     "text": [
      "Collecting seaborn\n",
      "  Downloading seaborn-0.12.2-py3-none-any.whl (293 kB)\n",
      "     ---------------------------------------- 0.0/293.3 kB ? eta -:--:--\n",
      "     ------------------------------------- 293.3/293.3 kB 17.7 MB/s eta 0:00:00\n",
      "Requirement already satisfied: numpy!=1.24.0,>=1.17 in c:\\python38\\lib\\site-packages (from seaborn) (1.24.2)\n",
      "Requirement already satisfied: matplotlib!=3.6.1,>=3.1 in c:\\python38\\lib\\site-packages (from seaborn) (3.7.1)\n",
      "Requirement already satisfied: pandas>=0.25 in c:\\python38\\lib\\site-packages (from seaborn) (1.5.3)\n",
      "Requirement already satisfied: fonttools>=4.22.0 in c:\\python38\\lib\\site-packages (from matplotlib!=3.6.1,>=3.1->seaborn) (4.39.0)\n",
      "Requirement already satisfied: importlib-resources>=3.2.0 in c:\\python38\\lib\\site-packages (from matplotlib!=3.6.1,>=3.1->seaborn) (5.12.0)\n",
      "Requirement already satisfied: pyparsing>=2.3.1 in c:\\python38\\lib\\site-packages (from matplotlib!=3.6.1,>=3.1->seaborn) (3.0.9)\n",
      "Requirement already satisfied: cycler>=0.10 in c:\\python38\\lib\\site-packages (from matplotlib!=3.6.1,>=3.1->seaborn) (0.11.0)\n",
      "Requirement already satisfied: packaging>=20.0 in c:\\python38\\lib\\site-packages (from matplotlib!=3.6.1,>=3.1->seaborn) (23.0)\n",
      "Requirement already satisfied: pillow>=6.2.0 in c:\\python38\\lib\\site-packages (from matplotlib!=3.6.1,>=3.1->seaborn) (9.4.0)\n",
      "Requirement already satisfied: contourpy>=1.0.1 in c:\\python38\\lib\\site-packages (from matplotlib!=3.6.1,>=3.1->seaborn) (1.0.7)\n",
      "Requirement already satisfied: python-dateutil>=2.7 in c:\\python38\\lib\\site-packages (from matplotlib!=3.6.1,>=3.1->seaborn) (2.8.2)\n",
      "Requirement already satisfied: kiwisolver>=1.0.1 in c:\\python38\\lib\\site-packages (from matplotlib!=3.6.1,>=3.1->seaborn) (1.4.4)\n",
      "Requirement already satisfied: pytz>=2020.1 in c:\\python38\\lib\\site-packages (from pandas>=0.25->seaborn) (2022.7.1)\n",
      "Requirement already satisfied: zipp>=3.1.0 in c:\\python38\\lib\\site-packages (from importlib-resources>=3.2.0->matplotlib!=3.6.1,>=3.1->seaborn) (3.15.0)\n",
      "Requirement already satisfied: six>=1.5 in c:\\python38\\lib\\site-packages (from python-dateutil>=2.7->matplotlib!=3.6.1,>=3.1->seaborn) (1.16.0)\n",
      "Installing collected packages: seaborn\n",
      "Successfully installed seaborn-0.12.2\n"
     ]
    }
   ],
   "source": [
    "# 값을세는 method 예시\n",
    "!pip install seaborn"
   ]
  },
  {
   "cell_type": "code",
   "execution_count": 37,
   "id": "9033a253",
   "metadata": {
    "scrolled": true
   },
   "outputs": [
    {
     "name": "stdout",
     "output_type": "stream",
     "text": [
      "     sepal_length  sepal_width  petal_length  petal_width    species\n",
      "0             5.1          3.5           1.4          0.2     setosa\n",
      "1             4.9          3.0           1.4          0.2     setosa\n",
      "2             4.7          3.2           1.3          0.2     setosa\n",
      "3             4.6          3.1           1.5          0.2     setosa\n",
      "4             5.0          3.6           1.4          0.2     setosa\n",
      "..            ...          ...           ...          ...        ...\n",
      "145           6.7          3.0           5.2          2.3  virginica\n",
      "146           6.3          2.5           5.0          1.9  virginica\n",
      "147           6.5          3.0           5.2          2.0  virginica\n",
      "148           6.2          3.4           5.4          2.3  virginica\n",
      "149           5.9          3.0           5.1          1.8  virginica\n",
      "\n",
      "[150 rows x 5 columns]\n"
     ]
    }
   ],
   "source": [
    "import seaborn as sns\n",
    "iris = sns.load_dataset('iris')\n",
    "print(iris)"
   ]
  },
  {
   "cell_type": "code",
   "execution_count": 41,
   "id": "1c4db065",
   "metadata": {},
   "outputs": [
    {
     "data": {
      "text/plain": [
       "array(['setosa', 'versicolor', 'virginica'], dtype=object)"
      ]
     },
     "execution_count": 41,
     "metadata": {},
     "output_type": "execute_result"
    }
   ],
   "source": [
    "# 카테고리형 자료의 종류의 갯수를 알려주는  메소드\n",
    "iris['species'].unique()"
   ]
  },
  {
   "cell_type": "code",
   "execution_count": 40,
   "id": "47d4a594",
   "metadata": {
    "scrolled": true
   },
   "outputs": [
    {
     "data": {
      "text/plain": [
       "setosa        50\n",
       "versicolor    50\n",
       "virginica     50\n",
       "Name: species, dtype: int64"
      ]
     },
     "execution_count": 40,
     "metadata": {},
     "output_type": "execute_result"
    }
   ],
   "source": [
    "iris['species'].value_counts()"
   ]
  },
  {
   "cell_type": "code",
   "execution_count": 43,
   "id": "7d1bb70f",
   "metadata": {},
   "outputs": [
    {
     "data": {
      "text/plain": [
       "(18709552, 4677388.0)"
      ]
     },
     "execution_count": 43,
     "metadata": {},
     "output_type": "execute_result"
    }
   ],
   "source": [
    "# 인구데이터의 전체 합과 평균\n",
    "sr.sum(), sr.mean()"
   ]
  },
  {
   "cell_type": "code",
   "execution_count": 47,
   "id": "2362146e",
   "metadata": {},
   "outputs": [
    {
     "data": {
      "text/plain": [
       "대구    2466052\n",
       "인천    2890451\n",
       "부산    3448737\n",
       "서울    9904312\n",
       "dtype: int64"
      ]
     },
     "execution_count": 47,
     "metadata": {},
     "output_type": "execute_result"
    }
   ],
   "source": [
    "# 정렬메소드\n",
    "sr.sort_values() #default는 ascending=True 오름차순"
   ]
  },
  {
   "cell_type": "code",
   "execution_count": null,
   "id": "224c0da4",
   "metadata": {},
   "outputs": [],
   "source": []
  }
 ],
 "metadata": {
  "kernelspec": {
   "display_name": "Python 3 (ipykernel)",
   "language": "python",
   "name": "python3"
  },
  "language_info": {
   "codemirror_mode": {
    "name": "ipython",
    "version": 3
   },
   "file_extension": ".py",
   "mimetype": "text/x-python",
   "name": "python",
   "nbconvert_exporter": "python",
   "pygments_lexer": "ipython3",
   "version": "3.8.7"
  }
 },
 "nbformat": 4,
 "nbformat_minor": 5
}
